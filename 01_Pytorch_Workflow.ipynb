{
  "nbformat": 4,
  "nbformat_minor": 0,
  "metadata": {
    "colab": {
      "provenance": [],
      "authorship_tag": "ABX9TyODiT0OkyyxNBkq4WV1ulXK",
      "include_colab_link": true
    },
    "kernelspec": {
      "name": "python3",
      "display_name": "Python 3"
    },
    "language_info": {
      "name": "python"
    }
  },
  "cells": [
    {
      "cell_type": "markdown",
      "metadata": {
        "id": "view-in-github",
        "colab_type": "text"
      },
      "source": [
        "<a href=\"https://colab.research.google.com/github/DarshanDinni/learn_pytorch/blob/main/01_Pytorch_Workflow.ipynb\" target=\"_parent\"><img src=\"https://colab.research.google.com/assets/colab-badge.svg\" alt=\"Open In Colab\"/></a>"
      ]
    },
    {
      "cell_type": "code",
      "execution_count": 2,
      "metadata": {
        "id": "UfTnTfV4MDtb"
      },
      "outputs": [],
      "source": [
        "# Importing the data\n",
        "\n",
        "import torch\n",
        "from torch import nn\n",
        "import numpy as np\n",
        "import pandas as pd\n",
        "import matplotlib.pyplot as plt"
      ]
    },
    {
      "cell_type": "code",
      "source": [
        "# Creating the data using the below formula\n",
        "# Y = mX + c - linear regression formula\n",
        "\n",
        "weight = 0.5\n",
        "bias = 0.7\n",
        "\n",
        "X = torch.arange(0, 1, 0.02).unsqueeze(dim=1)\n",
        "y = weight * X + bias\n",
        "\n",
        "print(\"Tensor X: \\n\", X[:5])\n",
        "print(\"Tensor y: \\n\", y[:5])"
      ],
      "metadata": {
        "colab": {
          "base_uri": "https://localhost:8080/"
        },
        "id": "oI-fycB3ZYNz",
        "outputId": "e33859e8-627e-49fa-831e-9eff7035cd01"
      },
      "execution_count": 9,
      "outputs": [
        {
          "output_type": "stream",
          "name": "stdout",
          "text": [
            "Tensor X: \n",
            " tensor([[0.0000],\n",
            "        [0.0200],\n",
            "        [0.0400],\n",
            "        [0.0600],\n",
            "        [0.0800]])\n",
            "Tensor y: \n",
            " tensor([[0.7000],\n",
            "        [0.7100],\n",
            "        [0.7200],\n",
            "        [0.7300],\n",
            "        [0.7400]])\n"
          ]
        }
      ]
    },
    {
      "cell_type": "code",
      "source": [
        "X.shape, y.shape"
      ],
      "metadata": {
        "colab": {
          "base_uri": "https://localhost:8080/"
        },
        "id": "LUUbRZ9QbYG3",
        "outputId": "82c6ef36-477e-4da9-dbc3-7adac1904ffa"
      },
      "execution_count": 12,
      "outputs": [
        {
          "output_type": "execute_result",
          "data": {
            "text/plain": [
              "(torch.Size([50, 1]), torch.Size([50, 1]))"
            ]
          },
          "metadata": {},
          "execution_count": 12
        }
      ]
    },
    {
      "cell_type": "code",
      "source": [
        "# Spliting the data into train and test set\n",
        "\n",
        "X_train, y_train = X[:40], y[:40]\n",
        "X_test, y_test = X[40:], y[40:]\n",
        "\n",
        "X_train.shape, y_train.shape, X_test.shape, y_test.shape"
      ],
      "metadata": {
        "colab": {
          "base_uri": "https://localhost:8080/"
        },
        "id": "NzBVJ-vjaYaH",
        "outputId": "710ec539-23fa-40b0-8c76-9c34c644784d"
      },
      "execution_count": 15,
      "outputs": [
        {
          "output_type": "execute_result",
          "data": {
            "text/plain": [
              "(torch.Size([40, 1]),\n",
              " torch.Size([40, 1]),\n",
              " torch.Size([10, 1]),\n",
              " torch.Size([10, 1]))"
            ]
          },
          "metadata": {},
          "execution_count": 15
        }
      ]
    },
    {
      "cell_type": "code",
      "source": [
        "# Visualize the data\n",
        "\n",
        "def plot_graph(training_data=X_train, testing_data=X_test, training_label=y_train, testing_label=y_test, prediction=None):\n",
        "  # Setting the size of the graph\n",
        "  plt.figure(figsize=(10, 7))\n",
        "\n",
        "  # Plotting training data\n",
        "  plt.scatter(X_train, y_train, c='b',s=4, label='Training data points')\n",
        "\n",
        "  # Plotting testing data\n",
        "  plt.scatter(X_test, y_test, c='r',s=4, label='Testing data points')\n",
        "\n",
        "  # Plotting prediction data\n",
        "  if prediction != None:\n",
        "    plt.scatter(testing_data, prediction, c='g', s=4, label='Prediction data points')\n",
        "\n",
        "  plt.legend()\n",
        "  plt.show()"
      ],
      "metadata": {
        "id": "nlqj5Ehdbuo2"
      },
      "execution_count": 23,
      "outputs": []
    },
    {
      "cell_type": "code",
      "source": [
        "plot_graph()"
      ],
      "metadata": {
        "colab": {
          "base_uri": "https://localhost:8080/",
          "height": 599
        },
        "id": "0OuHxqlTdM_R",
        "outputId": "e5648a0d-3f35-407d-be1e-513ad8cbc4b8"
      },
      "execution_count": 24,
      "outputs": [
        {
          "output_type": "display_data",
          "data": {
            "text/plain": [
              "<Figure size 1000x700 with 1 Axes>"
            ],
            "image/png": "[encoded data removed]"
          },
          "metadata": {}
        }
      ]
    },
    {
      "cell_type": "code",
      "source": [
        "# Build model\n",
        "\n",
        "# Creating linear regression model which inherits nn.Module which has all the neural network modules to work with\n",
        "class LinearRegressionModel(nn.Module):\n",
        "\n",
        "  # Defining the constructor\n",
        "  def __init__(self):\n",
        "    super().__init__()\n",
        "    self.weight = nn.Parameter(torch.randn(1, dtype=float))\n",
        "    self.bias = nn.Parameter(torch.randn(1, dtype=float))\n",
        "\n",
        "  # As we are inheriting the nn.Module we need to overwrite the forward function\n",
        "  def forward(self, x: torch.Tensor) -> torch.Tensor:\n",
        "    return self.weight * x + self.bias"
      ],
      "metadata": {
        "id": "Q3Y2ye9sd349"
      },
      "execution_count": 25,
      "outputs": []
    },
    {
      "cell_type": "code",
      "source": [
        "# Creating a seed value\n",
        "torch.manual_seed(42)\n",
        "\n",
        "# Creating the instance of the linear regression model\n",
        "model_0 = LinearRegressionModel()"
      ],
      "metadata": {
        "id": "jAW6e8Djhdtc"
      },
      "execution_count": 30,
      "outputs": []
    },
    {
      "cell_type": "code",
      "source": [
        "# Checking the parameters set for our model\n",
        "model_0.state_dict()"
      ],
      "metadata": {
        "colab": {
          "base_uri": "https://localhost:8080/"
        },
        "id": "TkS6EZeXkXXe",
        "outputId": "3358186f-0005-46a9-ddb6-89a8b82ce011"
      },
      "execution_count": 32,
      "outputs": [
        {
          "output_type": "execute_result",
          "data": {
            "text/plain": [
              "OrderedDict([('weight', tensor([0.3367], dtype=torch.float64)),\n",
              "             ('bias', tensor([0.1288], dtype=torch.float64))])"
            ]
          },
          "metadata": {},
          "execution_count": 32
        }
      ]
    },
    {
      "cell_type": "code",
      "source": [
        "# So our goal is to let the model learn so that it can better fit the data by finding the correct values for weight and bias\n",
        "# The correct values of weight and bias are as below\n",
        "weight, bias"
      ],
      "metadata": {
        "colab": {
          "base_uri": "https://localhost:8080/"
        },
        "id": "o8bHhKdQkbWN",
        "outputId": "ba59f4b0-41e7-4156-ceb2-211c9f09ddd7"
      },
      "execution_count": 33,
      "outputs": [
        {
          "output_type": "execute_result",
          "data": {
            "text/plain": [
              "(0.5, 0.7)"
            ]
          },
          "metadata": {},
          "execution_count": 33
        }
      ]
    },
    {
      "cell_type": "code",
      "source": [
        "# Code run under this inference mode gets better performance by disabling view tracking and version counter bumps\n",
        "with torch.inference_mode():\n",
        "  # Making the prediction with testing data points\n",
        "  y_prediction = model_0(X_test)\n",
        "\n",
        "y_prediction"
      ],
      "metadata": {
        "colab": {
          "base_uri": "https://localhost:8080/"
        },
        "id": "7Bw_HpwEloe5",
        "outputId": "6c8d31df-bcdc-47dd-fc3f-a126f60f5f0e"
      },
      "execution_count": 35,
      "outputs": [
        {
          "output_type": "execute_result",
          "data": {
            "text/plain": [
              "tensor([[0.3982],\n",
              "        [0.4049],\n",
              "        [0.4116],\n",
              "        [0.4184],\n",
              "        [0.4251],\n",
              "        [0.4318],\n",
              "        [0.4386],\n",
              "        [0.4453],\n",
              "        [0.4520],\n",
              "        [0.4588]], dtype=torch.float64)"
            ]
          },
          "metadata": {},
          "execution_count": 35
        }
      ]
    },
    {
      "cell_type": "code",
      "source": [
        "# Plotting the prediction data points to check the how model is performing\n",
        "\n",
        "plot_graph(prediction=y_prediction)"
      ],
      "metadata": {
        "colab": {
          "base_uri": "https://localhost:8080/",
          "height": 599
        },
        "id": "9DSOZH02mvFf",
        "outputId": "3361c4e6-5e5a-40ae-b754-c3870d5cefb9"
      },
      "execution_count": 36,
      "outputs": [
        {
          "output_type": "display_data",
          "data": {
            "text/plain": [
              "<Figure size 1000x700 with 1 Axes>"
            ],
            "image/png": "[encoded data removed]"
          },
          "metadata": {}
        }
      ]
    },
    {
      "cell_type": "code",
      "source": [
        "# As from the above graph that its obvious that the model's prediction of bad so we need to train the model so that it can learn how to predict the values as close as possible\n",
        "# So to train the model we need to create optimizer and loss function\n",
        "# Loss function:\n",
        "# Optimizer:\n"
      ],
      "metadata": {
        "id": "RCvi7W0_m1UN"
      },
      "execution_count": null,
      "outputs": []
    }
  ]
}