{
  "nbformat": 4,
  "nbformat_minor": 0,
  "metadata": {
    "colab": {
      "provenance": [],
      "gpuType": "T4",
      "authorship_tag": "ABX9TyPAhyaPhyfzyFZJ+Ad7bB96",
      "include_colab_link": true
    },
    "kernelspec": {
      "name": "python3",
      "display_name": "Python 3"
    },
    "language_info": {
      "name": "python"
    },
    "accelerator": "GPU",
    "widgets": {
      "application/vnd.jupyter.widget-state+json": {
        "3c3f3843c6114edd96aa95694d5b4d21": {
          "model_module": "@jupyter-widgets/controls",
          "model_name": "HBoxModel",
          "model_module_version": "1.5.0",
          "state": {
            "_dom_classes": [],
            "_model_module": "@jupyter-widgets/controls",
            "_model_module_version": "1.5.0",
            "_model_name": "HBoxModel",
            "_view_count": null,
            "_view_module": "@jupyter-widgets/controls",
            "_view_module_version": "1.5.0",
            "_view_name": "HBoxView",
            "box_style": "",
            "children": [
              "IPY_MODEL_8a12d806102545bca8f13bb9cdc11ef6",
              "IPY_MODEL_515c2c15362943a4a1204bbd2c185add",
              "IPY_MODEL_55bad253819d4cb39016c2d2d2b302d3"
            ],
            "layout": "IPY_MODEL_6df2a92437e74b0aaaa287005d4c6875"
          }
        },
        "8a12d806102545bca8f13bb9cdc11ef6": {
          "model_module": "@jupyter-widgets/controls",
          "model_name": "HTMLModel",
          "model_module_version": "1.5.0",
          "state": {
            "_dom_classes": [],
            "_model_module": "@jupyter-widgets/controls",
            "_model_module_version": "1.5.0",
            "_model_name": "HTMLModel",
            "_view_count": null,
            "_view_module": "@jupyter-widgets/controls",
            "_view_module_version": "1.5.0",
            "_view_name": "HTMLView",
            "description": "",
            "description_tooltip": null,
            "layout": "IPY_MODEL_e965c124cd7e4a3a8606c6aeaaf50515",
            "placeholder": "​",
            "style": "IPY_MODEL_a6c6baa7fb164385b93c4cd6b24286fa",
            "value": "100%"
          }
        },
        "515c2c15362943a4a1204bbd2c185add": {
          "model_module": "@jupyter-widgets/controls",
          "model_name": "FloatProgressModel",
          "model_module_version": "1.5.0",
          "state": {
            "_dom_classes": [],
            "_model_module": "@jupyter-widgets/controls",
            "_model_module_version": "1.5.0",
            "_model_name": "FloatProgressModel",
            "_view_count": null,
            "_view_module": "@jupyter-widgets/controls",
            "_view_module_version": "1.5.0",
            "_view_name": "ProgressView",
            "bar_style": "success",
            "description": "",
            "description_tooltip": null,
            "layout": "IPY_MODEL_d96972d3e2534a22acdb11a1d0f8311a",
            "max": 3,
            "min": 0,
            "orientation": "horizontal",
            "style": "IPY_MODEL_fe972f8f579049a29a73ea79e29e269b",
            "value": 3
          }
        },
        "55bad253819d4cb39016c2d2d2b302d3": {
          "model_module": "@jupyter-widgets/controls",
          "model_name": "HTMLModel",
          "model_module_version": "1.5.0",
          "state": {
            "_dom_classes": [],
            "_model_module": "@jupyter-widgets/controls",
            "_model_module_version": "1.5.0",
            "_model_name": "HTMLModel",
            "_view_count": null,
            "_view_module": "@jupyter-widgets/controls",
            "_view_module_version": "1.5.0",
            "_view_name": "HTMLView",
            "description": "",
            "description_tooltip": null,
            "layout": "IPY_MODEL_d831d292efad4e5f8f5451875af07cbd",
            "placeholder": "​",
            "style": "IPY_MODEL_3f96f3be5d8740af874a452e05dbb058",
            "value": " 3/3 [00:30&lt;00:00, 10.10s/it]"
          }
        },
        "6df2a92437e74b0aaaa287005d4c6875": {
          "model_module": "@jupyter-widgets/base",
          "model_name": "LayoutModel",
          "model_module_version": "1.2.0",
          "state": {
            "_model_module": "@jupyter-widgets/base",
            "_model_module_version": "1.2.0",
            "_model_name": "LayoutModel",
            "_view_count": null,
            "_view_module": "@jupyter-widgets/base",
            "_view_module_version": "1.2.0",
            "_view_name": "LayoutView",
            "align_content": null,
            "align_items": null,
            "align_self": null,
            "border": null,
            "bottom": null,
            "display": null,
            "flex": null,
            "flex_flow": null,
            "grid_area": null,
            "grid_auto_columns": null,
            "grid_auto_flow": null,
            "grid_auto_rows": null,
            "grid_column": null,
            "grid_gap": null,
            "grid_row": null,
            "grid_template_areas": null,
            "grid_template_columns": null,
            "grid_template_rows": null,
            "height": null,
            "justify_content": null,
            "justify_items": null,
            "left": null,
            "margin": null,
            "max_height": null,
            "max_width": null,
            "min_height": null,
            "min_width": null,
            "object_fit": null,
            "object_position": null,
            "order": null,
            "overflow": null,
            "overflow_x": null,
            "overflow_y": null,
            "padding": null,
            "right": null,
            "top": null,
            "visibility": null,
            "width": null
          }
        },
        "e965c124cd7e4a3a8606c6aeaaf50515": {
          "model_module": "@jupyter-widgets/base",
          "model_name": "LayoutModel",
          "model_module_version": "1.2.0",
          "state": {
            "_model_module": "@jupyter-widgets/base",
            "_model_module_version": "1.2.0",
            "_model_name": "LayoutModel",
            "_view_count": null,
            "_view_module": "@jupyter-widgets/base",
            "_view_module_version": "1.2.0",
            "_view_name": "LayoutView",
            "align_content": null,
            "align_items": null,
            "align_self": null,
            "border": null,
            "bottom": null,
            "display": null,
            "flex": null,
            "flex_flow": null,
            "grid_area": null,
            "grid_auto_columns": null,
            "grid_auto_flow": null,
            "grid_auto_rows": null,
            "grid_column": null,
            "grid_gap": null,
            "grid_row": null,
            "grid_template_areas": null,
            "grid_template_columns": null,
            "grid_template_rows": null,
            "height": null,
            "justify_content": null,
            "justify_items": null,
            "left": null,
            "margin": null,
            "max_height": null,
            "max_width": null,
            "min_height": null,
            "min_width": null,
            "object_fit": null,
            "object_position": null,
            "order": null,
            "overflow": null,
            "overflow_x": null,
            "overflow_y": null,
            "padding": null,
            "right": null,
            "top": null,
            "visibility": null,
            "width": null
          }
        },
        "a6c6baa7fb164385b93c4cd6b24286fa": {
          "model_module": "@jupyter-widgets/controls",
          "model_name": "DescriptionStyleModel",
          "model_module_version": "1.5.0",
          "state": {
            "_model_module": "@jupyter-widgets/controls",
            "_model_module_version": "1.5.0",
            "_model_name": "DescriptionStyleModel",
            "_view_count": null,
            "_view_module": "@jupyter-widgets/base",
            "_view_module_version": "1.2.0",
            "_view_name": "StyleView",
            "description_width": ""
          }
        },
        "d96972d3e2534a22acdb11a1d0f8311a": {
          "model_module": "@jupyter-widgets/base",
          "model_name": "LayoutModel",
          "model_module_version": "1.2.0",
          "state": {
            "_model_module": "@jupyter-widgets/base",
            "_model_module_version": "1.2.0",
            "_model_name": "LayoutModel",
            "_view_count": null,
            "_view_module": "@jupyter-widgets/base",
            "_view_module_version": "1.2.0",
            "_view_name": "LayoutView",
            "align_content": null,
            "align_items": null,
            "align_self": null,
            "border": null,
            "bottom": null,
            "display": null,
            "flex": null,
            "flex_flow": null,
            "grid_area": null,
            "grid_auto_columns": null,
            "grid_auto_flow": null,
            "grid_auto_rows": null,
            "grid_column": null,
            "grid_gap": null,
            "grid_row": null,
            "grid_template_areas": null,
            "grid_template_columns": null,
            "grid_template_rows": null,
            "height": null,
            "justify_content": null,
            "justify_items": null,
            "left": null,
            "margin": null,
            "max_height": null,
            "max_width": null,
            "min_height": null,
            "min_width": null,
            "object_fit": null,
            "object_position": null,
            "order": null,
            "overflow": null,
            "overflow_x": null,
            "overflow_y": null,
            "padding": null,
            "right": null,
            "top": null,
            "visibility": null,
            "width": null
          }
        },
        "fe972f8f579049a29a73ea79e29e269b": {
          "model_module": "@jupyter-widgets/controls",
          "model_name": "ProgressStyleModel",
          "model_module_version": "1.5.0",
          "state": {
            "_model_module": "@jupyter-widgets/controls",
            "_model_module_version": "1.5.0",
            "_model_name": "ProgressStyleModel",
            "_view_count": null,
            "_view_module": "@jupyter-widgets/base",
            "_view_module_version": "1.2.0",
            "_view_name": "StyleView",
            "bar_color": null,
            "description_width": ""
          }
        },
        "d831d292efad4e5f8f5451875af07cbd": {
          "model_module": "@jupyter-widgets/base",
          "model_name": "LayoutModel",
          "model_module_version": "1.2.0",
          "state": {
            "_model_module": "@jupyter-widgets/base",
            "_model_module_version": "1.2.0",
            "_model_name": "LayoutModel",
            "_view_count": null,
            "_view_module": "@jupyter-widgets/base",
            "_view_module_version": "1.2.0",
            "_view_name": "LayoutView",
            "align_content": null,
            "align_items": null,
            "align_self": null,
            "border": null,
            "bottom": null,
            "display": null,
            "flex": null,
            "flex_flow": null,
            "grid_area": null,
            "grid_auto_columns": null,
            "grid_auto_flow": null,
            "grid_auto_rows": null,
            "grid_column": null,
            "grid_gap": null,
            "grid_row": null,
            "grid_template_areas": null,
            "grid_template_columns": null,
            "grid_template_rows": null,
            "height": null,
            "justify_content": null,
            "justify_items": null,
            "left": null,
            "margin": null,
            "max_height": null,
            "max_width": null,
            "min_height": null,
            "min_width": null,
            "object_fit": null,
            "object_position": null,
            "order": null,
            "overflow": null,
            "overflow_x": null,
            "overflow_y": null,
            "padding": null,
            "right": null,
            "top": null,
            "visibility": null,
            "width": null
          }
        },
        "3f96f3be5d8740af874a452e05dbb058": {
          "model_module": "@jupyter-widgets/controls",
          "model_name": "DescriptionStyleModel",
          "model_module_version": "1.5.0",
          "state": {
            "_model_module": "@jupyter-widgets/controls",
            "_model_module_version": "1.5.0",
            "_model_name": "DescriptionStyleModel",
            "_view_count": null,
            "_view_module": "@jupyter-widgets/base",
            "_view_module_version": "1.2.0",
            "_view_name": "StyleView",
            "description_width": ""
          }
        },
        "4e3ed81068da436d829b80f79c899df5": {
          "model_module": "@jupyter-widgets/controls",
          "model_name": "HBoxModel",
          "model_module_version": "1.5.0",
          "state": {
            "_dom_classes": [],
            "_model_module": "@jupyter-widgets/controls",
            "_model_module_version": "1.5.0",
            "_model_name": "HBoxModel",
            "_view_count": null,
            "_view_module": "@jupyter-widgets/controls",
            "_view_module_version": "1.5.0",
            "_view_name": "HBoxView",
            "box_style": "",
            "children": [
              "IPY_MODEL_d463c5dbb2974e8bb482b401293251ae",
              "IPY_MODEL_4431dc1ba11743acaf3f086865f6f71f",
              "IPY_MODEL_0e760dfd2e7e44228b9d47c41c6b4130"
            ],
            "layout": "IPY_MODEL_b246a0e9e7c04b72ac28bae4ef8947b6"
          }
        },
        "d463c5dbb2974e8bb482b401293251ae": {
          "model_module": "@jupyter-widgets/controls",
          "model_name": "HTMLModel",
          "model_module_version": "1.5.0",
          "state": {
            "_dom_classes": [],
            "_model_module": "@jupyter-widgets/controls",
            "_model_module_version": "1.5.0",
            "_model_name": "HTMLModel",
            "_view_count": null,
            "_view_module": "@jupyter-widgets/controls",
            "_view_module_version": "1.5.0",
            "_view_name": "HTMLView",
            "description": "",
            "description_tooltip": null,
            "layout": "IPY_MODEL_6cd80f2c59774636ad81587afec8bb70",
            "placeholder": "​",
            "style": "IPY_MODEL_31307ea2abf94932a76340f1d9a5b9b5",
            "value": "100%"
          }
        },
        "4431dc1ba11743acaf3f086865f6f71f": {
          "model_module": "@jupyter-widgets/controls",
          "model_name": "FloatProgressModel",
          "model_module_version": "1.5.0",
          "state": {
            "_dom_classes": [],
            "_model_module": "@jupyter-widgets/controls",
            "_model_module_version": "1.5.0",
            "_model_name": "FloatProgressModel",
            "_view_count": null,
            "_view_module": "@jupyter-widgets/controls",
            "_view_module_version": "1.5.0",
            "_view_name": "ProgressView",
            "bar_style": "success",
            "description": "",
            "description_tooltip": null,
            "layout": "IPY_MODEL_f515dba511ce4dd48e9c7aeafb9ead8f",
            "max": 313,
            "min": 0,
            "orientation": "horizontal",
            "style": "IPY_MODEL_762b278f1e8b42ac982490f90ea5fe74",
            "value": 313
          }
        },
        "0e760dfd2e7e44228b9d47c41c6b4130": {
          "model_module": "@jupyter-widgets/controls",
          "model_name": "HTMLModel",
          "model_module_version": "1.5.0",
          "state": {
            "_dom_classes": [],
            "_model_module": "@jupyter-widgets/controls",
            "_model_module_version": "1.5.0",
            "_model_name": "HTMLModel",
            "_view_count": null,
            "_view_module": "@jupyter-widgets/controls",
            "_view_module_version": "1.5.0",
            "_view_name": "HTMLView",
            "description": "",
            "description_tooltip": null,
            "layout": "IPY_MODEL_6f60d55021694f1997183962ba1d5430",
            "placeholder": "​",
            "style": "IPY_MODEL_a5644f6ef523469e950a560aff9f10b9",
            "value": " 313/313 [00:01&lt;00:00, 285.22it/s]"
          }
        },
        "b246a0e9e7c04b72ac28bae4ef8947b6": {
          "model_module": "@jupyter-widgets/base",
          "model_name": "LayoutModel",
          "model_module_version": "1.2.0",
          "state": {
            "_model_module": "@jupyter-widgets/base",
            "_model_module_version": "1.2.0",
            "_model_name": "LayoutModel",
            "_view_count": null,
            "_view_module": "@jupyter-widgets/base",
            "_view_module_version": "1.2.0",
            "_view_name": "LayoutView",
            "align_content": null,
            "align_items": null,
            "align_self": null,
            "border": null,
            "bottom": null,
            "display": null,
            "flex": null,
            "flex_flow": null,
            "grid_area": null,
            "grid_auto_columns": null,
            "grid_auto_flow": null,
            "grid_auto_rows": null,
            "grid_column": null,
            "grid_gap": null,
            "grid_row": null,
            "grid_template_areas": null,
            "grid_template_columns": null,
            "grid_template_rows": null,
            "height": null,
            "justify_content": null,
            "justify_items": null,
            "left": null,
            "margin": null,
            "max_height": null,
            "max_width": null,
            "min_height": null,
            "min_width": null,
            "object_fit": null,
            "object_position": null,
            "order": null,
            "overflow": null,
            "overflow_x": null,
            "overflow_y": null,
            "padding": null,
            "right": null,
            "top": null,
            "visibility": null,
            "width": null
          }
        },
        "6cd80f2c59774636ad81587afec8bb70": {
          "model_module": "@jupyter-widgets/base",
          "model_name": "LayoutModel",
          "model_module_version": "1.2.0",
          "state": {
            "_model_module": "@jupyter-widgets/base",
            "_model_module_version": "1.2.0",
            "_model_name": "LayoutModel",
            "_view_count": null,
            "_view_module": "@jupyter-widgets/base",
            "_view_module_version": "1.2.0",
            "_view_name": "LayoutView",
            "align_content": null,
            "align_items": null,
            "align_self": null,
            "border": null,
            "bottom": null,
            "display": null,
            "flex": null,
            "flex_flow": null,
            "grid_area": null,
            "grid_auto_columns": null,
            "grid_auto_flow": null,
            "grid_auto_rows": null,
            "grid_column": null,
            "grid_gap": null,
            "grid_row": null,
            "grid_template_areas": null,
            "grid_template_columns": null,
            "grid_template_rows": null,
            "height": null,
            "justify_content": null,
            "justify_items": null,
            "left": null,
            "margin": null,
            "max_height": null,
            "max_width": null,
            "min_height": null,
            "min_width": null,
            "object_fit": null,
            "object_position": null,
            "order": null,
            "overflow": null,
            "overflow_x": null,
            "overflow_y": null,
            "padding": null,
            "right": null,
            "top": null,
            "visibility": null,
            "width": null
          }
        },
        "31307ea2abf94932a76340f1d9a5b9b5": {
          "model_module": "@jupyter-widgets/controls",
          "model_name": "DescriptionStyleModel",
          "model_module_version": "1.5.0",
          "state": {
            "_model_module": "@jupyter-widgets/controls",
            "_model_module_version": "1.5.0",
            "_model_name": "DescriptionStyleModel",
            "_view_count": null,
            "_view_module": "@jupyter-widgets/base",
            "_view_module_version": "1.2.0",
            "_view_name": "StyleView",
            "description_width": ""
          }
        },
        "f515dba511ce4dd48e9c7aeafb9ead8f": {
          "model_module": "@jupyter-widgets/base",
          "model_name": "LayoutModel",
          "model_module_version": "1.2.0",
          "state": {
            "_model_module": "@jupyter-widgets/base",
            "_model_module_version": "1.2.0",
            "_model_name": "LayoutModel",
            "_view_count": null,
            "_view_module": "@jupyter-widgets/base",
            "_view_module_version": "1.2.0",
            "_view_name": "LayoutView",
            "align_content": null,
            "align_items": null,
            "align_self": null,
            "border": null,
            "bottom": null,
            "display": null,
            "flex": null,
            "flex_flow": null,
            "grid_area": null,
            "grid_auto_columns": null,
            "grid_auto_flow": null,
            "grid_auto_rows": null,
            "grid_column": null,
            "grid_gap": null,
            "grid_row": null,
            "grid_template_areas": null,
            "grid_template_columns": null,
            "grid_template_rows": null,
            "height": null,
            "justify_content": null,
            "justify_items": null,
            "left": null,
            "margin": null,
            "max_height": null,
            "max_width": null,
            "min_height": null,
            "min_width": null,
            "object_fit": null,
            "object_position": null,
            "order": null,
            "overflow": null,
            "overflow_x": null,
            "overflow_y": null,
            "padding": null,
            "right": null,
            "top": null,
            "visibility": null,
            "width": null
          }
        },
        "762b278f1e8b42ac982490f90ea5fe74": {
          "model_module": "@jupyter-widgets/controls",
          "model_name": "ProgressStyleModel",
          "model_module_version": "1.5.0",
          "state": {
            "_model_module": "@jupyter-widgets/controls",
            "_model_module_version": "1.5.0",
            "_model_name": "ProgressStyleModel",
            "_view_count": null,
            "_view_module": "@jupyter-widgets/base",
            "_view_module_version": "1.2.0",
            "_view_name": "StyleView",
            "bar_color": null,
            "description_width": ""
          }
        },
        "6f60d55021694f1997183962ba1d5430": {
          "model_module": "@jupyter-widgets/base",
          "model_name": "LayoutModel",
          "model_module_version": "1.2.0",
          "state": {
            "_model_module": "@jupyter-widgets/base",
            "_model_module_version": "1.2.0",
            "_model_name": "LayoutModel",
            "_view_count": null,
            "_view_module": "@jupyter-widgets/base",
            "_view_module_version": "1.2.0",
            "_view_name": "LayoutView",
            "align_content": null,
            "align_items": null,
            "align_self": null,
            "border": null,
            "bottom": null,
            "display": null,
            "flex": null,
            "flex_flow": null,
            "grid_area": null,
            "grid_auto_columns": null,
            "grid_auto_flow": null,
            "grid_auto_rows": null,
            "grid_column": null,
            "grid_gap": null,
            "grid_row": null,
            "grid_template_areas": null,
            "grid_template_columns": null,
            "grid_template_rows": null,
            "height": null,
            "justify_content": null,
            "justify_items": null,
            "left": null,
            "margin": null,
            "max_height": null,
            "max_width": null,
            "min_height": null,
            "min_width": null,
            "object_fit": null,
            "object_position": null,
            "order": null,
            "overflow": null,
            "overflow_x": null,
            "overflow_y": null,
            "padding": null,
            "right": null,
            "top": null,
            "visibility": null,
            "width": null
          }
        },
        "a5644f6ef523469e950a560aff9f10b9": {
          "model_module": "@jupyter-widgets/controls",
          "model_name": "DescriptionStyleModel",
          "model_module_version": "1.5.0",
          "state": {
            "_model_module": "@jupyter-widgets/controls",
            "_model_module_version": "1.5.0",
            "_model_name": "DescriptionStyleModel",
            "_view_count": null,
            "_view_module": "@jupyter-widgets/base",
            "_view_module_version": "1.2.0",
            "_view_name": "StyleView",
            "description_width": ""
          }
        },
        "31c46bbc6e49461caa3ef4adb3e1e07b": {
          "model_module": "@jupyter-widgets/controls",
          "model_name": "HBoxModel",
          "model_module_version": "1.5.0",
          "state": {
            "_dom_classes": [],
            "_model_module": "@jupyter-widgets/controls",
            "_model_module_version": "1.5.0",
            "_model_name": "HBoxModel",
            "_view_count": null,
            "_view_module": "@jupyter-widgets/controls",
            "_view_module_version": "1.5.0",
            "_view_name": "HBoxView",
            "box_style": "",
            "children": [
              "IPY_MODEL_43b8ede7a6fd40209ee63140482522b5",
              "IPY_MODEL_8899067859194b3bb3d9bcffe4f94114",
              "IPY_MODEL_7496a1099f7a482cbcc753c33651291e"
            ],
            "layout": "IPY_MODEL_9339973d416f447ebc5bc266b8ccd228"
          }
        },
        "43b8ede7a6fd40209ee63140482522b5": {
          "model_module": "@jupyter-widgets/controls",
          "model_name": "HTMLModel",
          "model_module_version": "1.5.0",
          "state": {
            "_dom_classes": [],
            "_model_module": "@jupyter-widgets/controls",
            "_model_module_version": "1.5.0",
            "_model_name": "HTMLModel",
            "_view_count": null,
            "_view_module": "@jupyter-widgets/controls",
            "_view_module_version": "1.5.0",
            "_view_name": "HTMLView",
            "description": "",
            "description_tooltip": null,
            "layout": "IPY_MODEL_5fce7a6b6822488990ffa9ba15400b59",
            "placeholder": "​",
            "style": "IPY_MODEL_fee0c056197a4bfc9c47f03fe42c133b",
            "value": "100%"
          }
        },
        "8899067859194b3bb3d9bcffe4f94114": {
          "model_module": "@jupyter-widgets/controls",
          "model_name": "FloatProgressModel",
          "model_module_version": "1.5.0",
          "state": {
            "_dom_classes": [],
            "_model_module": "@jupyter-widgets/controls",
            "_model_module_version": "1.5.0",
            "_model_name": "FloatProgressModel",
            "_view_count": null,
            "_view_module": "@jupyter-widgets/controls",
            "_view_module_version": "1.5.0",
            "_view_name": "ProgressView",
            "bar_style": "success",
            "description": "",
            "description_tooltip": null,
            "layout": "IPY_MODEL_eff25923cad743fb98ab165e6a08f737",
            "max": 3,
            "min": 0,
            "orientation": "horizontal",
            "style": "IPY_MODEL_26f92607f7de442db22f84628b7c7d3a",
            "value": 3
          }
        },
        "7496a1099f7a482cbcc753c33651291e": {
          "model_module": "@jupyter-widgets/controls",
          "model_name": "HTMLModel",
          "model_module_version": "1.5.0",
          "state": {
            "_dom_classes": [],
            "_model_module": "@jupyter-widgets/controls",
            "_model_module_version": "1.5.0",
            "_model_name": "HTMLModel",
            "_view_count": null,
            "_view_module": "@jupyter-widgets/controls",
            "_view_module_version": "1.5.0",
            "_view_name": "HTMLView",
            "description": "",
            "description_tooltip": null,
            "layout": "IPY_MODEL_505d77d1a10b4659bd2e37180d7494ad",
            "placeholder": "​",
            "style": "IPY_MODEL_cc4c49d15c014058af8d679f67f75372",
            "value": " 3/3 [00:33&lt;00:00, 11.01s/it]"
          }
        },
        "9339973d416f447ebc5bc266b8ccd228": {
          "model_module": "@jupyter-widgets/base",
          "model_name": "LayoutModel",
          "model_module_version": "1.2.0",
          "state": {
            "_model_module": "@jupyter-widgets/base",
            "_model_module_version": "1.2.0",
            "_model_name": "LayoutModel",
            "_view_count": null,
            "_view_module": "@jupyter-widgets/base",
            "_view_module_version": "1.2.0",
            "_view_name": "LayoutView",
            "align_content": null,
            "align_items": null,
            "align_self": null,
            "border": null,
            "bottom": null,
            "display": null,
            "flex": null,
            "flex_flow": null,
            "grid_area": null,
            "grid_auto_columns": null,
            "grid_auto_flow": null,
            "grid_auto_rows": null,
            "grid_column": null,
            "grid_gap": null,
            "grid_row": null,
            "grid_template_areas": null,
            "grid_template_columns": null,
            "grid_template_rows": null,
            "height": null,
            "justify_content": null,
            "justify_items": null,
            "left": null,
            "margin": null,
            "max_height": null,
            "max_width": null,
            "min_height": null,
            "min_width": null,
            "object_fit": null,
            "object_position": null,
            "order": null,
            "overflow": null,
            "overflow_x": null,
            "overflow_y": null,
            "padding": null,
            "right": null,
            "top": null,
            "visibility": null,
            "width": null
          }
        },
        "5fce7a6b6822488990ffa9ba15400b59": {
          "model_module": "@jupyter-widgets/base",
          "model_name": "LayoutModel",
          "model_module_version": "1.2.0",
          "state": {
            "_model_module": "@jupyter-widgets/base",
            "_model_module_version": "1.2.0",
            "_model_name": "LayoutModel",
            "_view_count": null,
            "_view_module": "@jupyter-widgets/base",
            "_view_module_version": "1.2.0",
            "_view_name": "LayoutView",
            "align_content": null,
            "align_items": null,
            "align_self": null,
            "border": null,
            "bottom": null,
            "display": null,
            "flex": null,
            "flex_flow": null,
            "grid_area": null,
            "grid_auto_columns": null,
            "grid_auto_flow": null,
            "grid_auto_rows": null,
            "grid_column": null,
            "grid_gap": null,
            "grid_row": null,
            "grid_template_areas": null,
            "grid_template_columns": null,
            "grid_template_rows": null,
            "height": null,
            "justify_content": null,
            "justify_items": null,
            "left": null,
            "margin": null,
            "max_height": null,
            "max_width": null,
            "min_height": null,
            "min_width": null,
            "object_fit": null,
            "object_position": null,
            "order": null,
            "overflow": null,
            "overflow_x": null,
            "overflow_y": null,
            "padding": null,
            "right": null,
            "top": null,
            "visibility": null,
            "width": null
          }
        },
        "fee0c056197a4bfc9c47f03fe42c133b": {
          "model_module": "@jupyter-widgets/controls",
          "model_name": "DescriptionStyleModel",
          "model_module_version": "1.5.0",
          "state": {
            "_model_module": "@jupyter-widgets/controls",
            "_model_module_version": "1.5.0",
            "_model_name": "DescriptionStyleModel",
            "_view_count": null,
            "_view_module": "@jupyter-widgets/base",
            "_view_module_version": "1.2.0",
            "_view_name": "StyleView",
            "description_width": ""
          }
        },
        "eff25923cad743fb98ab165e6a08f737": {
          "model_module": "@jupyter-widgets/base",
          "model_name": "LayoutModel",
          "model_module_version": "1.2.0",
          "state": {
            "_model_module": "@jupyter-widgets/base",
            "_model_module_version": "1.2.0",
            "_model_name": "LayoutModel",
            "_view_count": null,
            "_view_module": "@jupyter-widgets/base",
            "_view_module_version": "1.2.0",
            "_view_name": "LayoutView",
            "align_content": null,
            "align_items": null,
            "align_self": null,
            "border": null,
            "bottom": null,
            "display": null,
            "flex": null,
            "flex_flow": null,
            "grid_area": null,
            "grid_auto_columns": null,
            "grid_auto_flow": null,
            "grid_auto_rows": null,
            "grid_column": null,
            "grid_gap": null,
            "grid_row": null,
            "grid_template_areas": null,
            "grid_template_columns": null,
            "grid_template_rows": null,
            "height": null,
            "justify_content": null,
            "justify_items": null,
            "left": null,
            "margin": null,
            "max_height": null,
            "max_width": null,
            "min_height": null,
            "min_width": null,
            "object_fit": null,
            "object_position": null,
            "order": null,
            "overflow": null,
            "overflow_x": null,
            "overflow_y": null,
            "padding": null,
            "right": null,
            "top": null,
            "visibility": null,
            "width": null
          }
        },
        "26f92607f7de442db22f84628b7c7d3a": {
          "model_module": "@jupyter-widgets/controls",
          "model_name": "ProgressStyleModel",
          "model_module_version": "1.5.0",
          "state": {
            "_model_module": "@jupyter-widgets/controls",
            "_model_module_version": "1.5.0",
            "_model_name": "ProgressStyleModel",
            "_view_count": null,
            "_view_module": "@jupyter-widgets/base",
            "_view_module_version": "1.2.0",
            "_view_name": "StyleView",
            "bar_color": null,
            "description_width": ""
          }
        },
        "505d77d1a10b4659bd2e37180d7494ad": {
          "model_module": "@jupyter-widgets/base",
          "model_name": "LayoutModel",
          "model_module_version": "1.2.0",
          "state": {
            "_model_module": "@jupyter-widgets/base",
            "_model_module_version": "1.2.0",
            "_model_name": "LayoutModel",
            "_view_count": null,
            "_view_module": "@jupyter-widgets/base",
            "_view_module_version": "1.2.0",
            "_view_name": "LayoutView",
            "align_content": null,
            "align_items": null,
            "align_self": null,
            "border": null,
            "bottom": null,
            "display": null,
            "flex": null,
            "flex_flow": null,
            "grid_area": null,
            "grid_auto_columns": null,
            "grid_auto_flow": null,
            "grid_auto_rows": null,
            "grid_column": null,
            "grid_gap": null,
            "grid_row": null,
            "grid_template_areas": null,
            "grid_template_columns": null,
            "grid_template_rows": null,
            "height": null,
            "justify_content": null,
            "justify_items": null,
            "left": null,
            "margin": null,
            "max_height": null,
            "max_width": null,
            "min_height": null,
            "min_width": null,
            "object_fit": null,
            "object_position": null,
            "order": null,
            "overflow": null,
            "overflow_x": null,
            "overflow_y": null,
            "padding": null,
            "right": null,
            "top": null,
            "visibility": null,
            "width": null
          }
        },
        "cc4c49d15c014058af8d679f67f75372": {
          "model_module": "@jupyter-widgets/controls",
          "model_name": "DescriptionStyleModel",
          "model_module_version": "1.5.0",
          "state": {
            "_model_module": "@jupyter-widgets/controls",
            "_model_module_version": "1.5.0",
            "_model_name": "DescriptionStyleModel",
            "_view_count": null,
            "_view_module": "@jupyter-widgets/base",
            "_view_module_version": "1.2.0",
            "_view_name": "StyleView",
            "description_width": ""
          }
        }
      }
    }
  },
  "cells": [
    {
      "cell_type": "markdown",
      "metadata": {
        "id": "view-in-github",
        "colab_type": "text"
      },
      "source": [
        "<a href=\"https://colab.research.google.com/github/DarshanDinni/learn_pytorch/blob/main/03_Computer_vision.ipynb\" target=\"_parent\"><img src=\"https://colab.research.google.com/assets/colab-badge.svg\" alt=\"Open In Colab\"/></a>"
      ]
    },
    {
      "cell_type": "code",
      "execution_count": 55,
      "metadata": {
        "id": "vE-N1f_CphHw"
      },
      "outputs": [],
      "source": [
        "# Importing basic libraries\n",
        "import numpy as np\n",
        "import pandas as pd\n",
        "import matplotlib.pyplot as plt\n",
        "\n",
        "# Importing deep learning libraries\n",
        "import torch\n",
        "from torch import nn\n",
        "\n",
        "# Importing computer vision libraries\n",
        "import torchvision\n",
        "from torchvision import datasets\n",
        "from torchvision import transforms\n",
        "from torchvision.transforms import ToTensor\n",
        "from torch.utils.data import DataLoader\n",
        "\n",
        "# Machine Learning libraries\n",
        "from sklearn.model_selection import train_test_split"
      ]
    },
    {
      "cell_type": "markdown",
      "source": [
        "#**Get the data**\n",
        "\n"
      ],
      "metadata": {
        "id": "ZINUt_1uuFyJ"
      }
    },
    {
      "cell_type": "code",
      "source": [
        "# Training data\n",
        "train_data = datasets.FashionMNIST(\n",
        "    root=\"data\", # Set the root directory to download the data\n",
        "    train=True, # Boolean value to specifies training or test dataset\n",
        "    download=True, # Downloads the data from the internet if it’s not available at root\n",
        "    transform=ToTensor() # Convert the data to tensor\n",
        ")\n",
        "\n",
        "# Testing data\n",
        "test_data = datasets.FashionMNIST(\n",
        "    root=\"data\", # Set the root directory to download the data\n",
        "    train=False, # Boolean value to specifies training or test dataset\n",
        "    download=True, # Downloads the data from the internet if it’s not available at root\n",
        "    transform=ToTensor() # Convert the data to tensor\n",
        ")"
      ],
      "metadata": {
        "id": "5kM2J0qWqYYr"
      },
      "execution_count": 56,
      "outputs": []
    },
    {
      "cell_type": "markdown",
      "source": [
        "**Exploring the data**"
      ],
      "metadata": {
        "id": "12eWq64_ydlp"
      }
    },
    {
      "cell_type": "code",
      "source": [
        "# Checking the size of data sample\n",
        "len(train_data), len(test_data)"
      ],
      "metadata": {
        "colab": {
          "base_uri": "https://localhost:8080/"
        },
        "id": "gGkupmOtx3Jt",
        "outputId": "461ab6db-ee44-409e-8790-ff29359e33af"
      },
      "execution_count": 57,
      "outputs": [
        {
          "output_type": "execute_result",
          "data": {
            "text/plain": [
              "(60000, 10000)"
            ]
          },
          "metadata": {},
          "execution_count": 57
        }
      ]
    },
    {
      "cell_type": "code",
      "source": [
        "# Printing out the first image tensor and its resp. label\n",
        "image, label = train_data[0]\n",
        "image, label"
      ],
      "metadata": {
        "colab": {
          "base_uri": "https://localhost:8080/"
        },
        "id": "Hn5yUgMeyUuJ",
        "outputId": "d0b6e37b-01e7-41f1-8943-c628d051ced6"
      },
      "execution_count": 58,
      "outputs": [
        {
          "output_type": "execute_result",
          "data": {
            "text/plain": [
              "(tensor([[[0.0000, 0.0000, 0.0000, 0.0000, 0.0000, 0.0000, 0.0000, 0.0000,\n",
              "           0.0000, 0.0000, 0.0000, 0.0000, 0.0000, 0.0000, 0.0000, 0.0000,\n",
              "           0.0000, 0.0000, 0.0000, 0.0000, 0.0000, 0.0000, 0.0000, 0.0000,\n",
              "           0.0000, 0.0000, 0.0000, 0.0000],\n",
              "          [0.0000, 0.0000, 0.0000, 0.0000, 0.0000, 0.0000, 0.0000, 0.0000,\n",
              "           0.0000, 0.0000, 0.0000, 0.0000, 0.0000, 0.0000, 0.0000, 0.0000,\n",
              "           0.0000, 0.0000, 0.0000, 0.0000, 0.0000, 0.0000, 0.0000, 0.0000,\n",
              "           0.0000, 0.0000, 0.0000, 0.0000],\n",
              "          [0.0000, 0.0000, 0.0000, 0.0000, 0.0000, 0.0000, 0.0000, 0.0000,\n",
              "           0.0000, 0.0000, 0.0000, 0.0000, 0.0000, 0.0000, 0.0000, 0.0000,\n",
              "           0.0000, 0.0000, 0.0000, 0.0000, 0.0000, 0.0000, 0.0000, 0.0000,\n",
              "           0.0000, 0.0000, 0.0000, 0.0000],\n",
              "          [0.0000, 0.0000, 0.0000, 0.0000, 0.0000, 0.0000, 0.0000, 0.0000,\n",
              "           0.0000, 0.0000, 0.0000, 0.0000, 0.0039, 0.0000, 0.0000, 0.0510,\n",
              "           0.2863, 0.0000, 0.0000, 0.0039, 0.0157, 0.0000, 0.0000, 0.0000,\n",
              "           0.0000, 0.0039, 0.0039, 0.0000],\n",
              "          [0.0000, 0.0000, 0.0000, 0.0000, 0.0000, 0.0000, 0.0000, 0.0000,\n",
              "           0.0000, 0.0000, 0.0000, 0.0000, 0.0118, 0.0000, 0.1412, 0.5333,\n",
              "           0.4980, 0.2431, 0.2118, 0.0000, 0.0000, 0.0000, 0.0039, 0.0118,\n",
              "           0.0157, 0.0000, 0.0000, 0.0118],\n",
              "          [0.0000, 0.0000, 0.0000, 0.0000, 0.0000, 0.0000, 0.0000, 0.0000,\n",
              "           0.0000, 0.0000, 0.0000, 0.0000, 0.0235, 0.0000, 0.4000, 0.8000,\n",
              "           0.6902, 0.5255, 0.5647, 0.4824, 0.0902, 0.0000, 0.0000, 0.0000,\n",
              "           0.0000, 0.0471, 0.0392, 0.0000],\n",
              "          [0.0000, 0.0000, 0.0000, 0.0000, 0.0000, 0.0000, 0.0000, 0.0000,\n",
              "           0.0000, 0.0000, 0.0000, 0.0000, 0.0000, 0.0000, 0.6078, 0.9255,\n",
              "           0.8118, 0.6980, 0.4196, 0.6118, 0.6314, 0.4275, 0.2510, 0.0902,\n",
              "           0.3020, 0.5098, 0.2824, 0.0588],\n",
              "          [0.0000, 0.0000, 0.0000, 0.0000, 0.0000, 0.0000, 0.0000, 0.0000,\n",
              "           0.0000, 0.0000, 0.0000, 0.0039, 0.0000, 0.2706, 0.8118, 0.8745,\n",
              "           0.8549, 0.8471, 0.8471, 0.6392, 0.4980, 0.4745, 0.4784, 0.5725,\n",
              "           0.5529, 0.3451, 0.6745, 0.2588],\n",
              "          [0.0000, 0.0000, 0.0000, 0.0000, 0.0000, 0.0000, 0.0000, 0.0000,\n",
              "           0.0000, 0.0039, 0.0039, 0.0039, 0.0000, 0.7843, 0.9098, 0.9098,\n",
              "           0.9137, 0.8980, 0.8745, 0.8745, 0.8431, 0.8353, 0.6431, 0.4980,\n",
              "           0.4824, 0.7686, 0.8980, 0.0000],\n",
              "          [0.0000, 0.0000, 0.0000, 0.0000, 0.0000, 0.0000, 0.0000, 0.0000,\n",
              "           0.0000, 0.0000, 0.0000, 0.0000, 0.0000, 0.7176, 0.8824, 0.8471,\n",
              "           0.8745, 0.8941, 0.9216, 0.8902, 0.8784, 0.8706, 0.8784, 0.8667,\n",
              "           0.8745, 0.9608, 0.6784, 0.0000],\n",
              "          [0.0000, 0.0000, 0.0000, 0.0000, 0.0000, 0.0000, 0.0000, 0.0000,\n",
              "           0.0000, 0.0000, 0.0000, 0.0000, 0.0000, 0.7569, 0.8941, 0.8549,\n",
              "           0.8353, 0.7765, 0.7059, 0.8314, 0.8235, 0.8275, 0.8353, 0.8745,\n",
              "           0.8627, 0.9529, 0.7922, 0.0000],\n",
              "          [0.0000, 0.0000, 0.0000, 0.0000, 0.0000, 0.0000, 0.0000, 0.0000,\n",
              "           0.0000, 0.0039, 0.0118, 0.0000, 0.0471, 0.8588, 0.8627, 0.8314,\n",
              "           0.8549, 0.7529, 0.6627, 0.8902, 0.8157, 0.8549, 0.8784, 0.8314,\n",
              "           0.8863, 0.7725, 0.8196, 0.2039],\n",
              "          [0.0000, 0.0000, 0.0000, 0.0000, 0.0000, 0.0000, 0.0000, 0.0000,\n",
              "           0.0000, 0.0000, 0.0235, 0.0000, 0.3882, 0.9569, 0.8706, 0.8627,\n",
              "           0.8549, 0.7961, 0.7765, 0.8667, 0.8431, 0.8353, 0.8706, 0.8627,\n",
              "           0.9608, 0.4667, 0.6549, 0.2196],\n",
              "          [0.0000, 0.0000, 0.0000, 0.0000, 0.0000, 0.0000, 0.0000, 0.0000,\n",
              "           0.0000, 0.0157, 0.0000, 0.0000, 0.2157, 0.9255, 0.8941, 0.9020,\n",
              "           0.8941, 0.9412, 0.9098, 0.8353, 0.8549, 0.8745, 0.9176, 0.8510,\n",
              "           0.8510, 0.8196, 0.3608, 0.0000],\n",
              "          [0.0000, 0.0000, 0.0039, 0.0157, 0.0235, 0.0275, 0.0078, 0.0000,\n",
              "           0.0000, 0.0000, 0.0000, 0.0000, 0.9294, 0.8863, 0.8510, 0.8745,\n",
              "           0.8706, 0.8588, 0.8706, 0.8667, 0.8471, 0.8745, 0.8980, 0.8431,\n",
              "           0.8549, 1.0000, 0.3020, 0.0000],\n",
              "          [0.0000, 0.0118, 0.0000, 0.0000, 0.0000, 0.0000, 0.0000, 0.0000,\n",
              "           0.0000, 0.2431, 0.5686, 0.8000, 0.8941, 0.8118, 0.8353, 0.8667,\n",
              "           0.8549, 0.8157, 0.8275, 0.8549, 0.8784, 0.8745, 0.8588, 0.8431,\n",
              "           0.8784, 0.9569, 0.6235, 0.0000],\n",
              "          [0.0000, 0.0000, 0.0000, 0.0000, 0.0706, 0.1725, 0.3216, 0.4196,\n",
              "           0.7412, 0.8941, 0.8627, 0.8706, 0.8510, 0.8863, 0.7843, 0.8039,\n",
              "           0.8275, 0.9020, 0.8784, 0.9176, 0.6902, 0.7373, 0.9804, 0.9725,\n",
              "           0.9137, 0.9333, 0.8431, 0.0000],\n",
              "          [0.0000, 0.2235, 0.7333, 0.8157, 0.8784, 0.8667, 0.8784, 0.8157,\n",
              "           0.8000, 0.8392, 0.8157, 0.8196, 0.7843, 0.6235, 0.9608, 0.7569,\n",
              "           0.8078, 0.8745, 1.0000, 1.0000, 0.8667, 0.9176, 0.8667, 0.8275,\n",
              "           0.8627, 0.9098, 0.9647, 0.0000],\n",
              "          [0.0118, 0.7922, 0.8941, 0.8784, 0.8667, 0.8275, 0.8275, 0.8392,\n",
              "           0.8039, 0.8039, 0.8039, 0.8627, 0.9412, 0.3137, 0.5882, 1.0000,\n",
              "           0.8980, 0.8667, 0.7373, 0.6039, 0.7490, 0.8235, 0.8000, 0.8196,\n",
              "           0.8706, 0.8941, 0.8824, 0.0000],\n",
              "          [0.3843, 0.9137, 0.7765, 0.8235, 0.8706, 0.8980, 0.8980, 0.9176,\n",
              "           0.9765, 0.8627, 0.7608, 0.8431, 0.8510, 0.9451, 0.2549, 0.2863,\n",
              "           0.4157, 0.4588, 0.6588, 0.8588, 0.8667, 0.8431, 0.8510, 0.8745,\n",
              "           0.8745, 0.8784, 0.8980, 0.1137],\n",
              "          [0.2941, 0.8000, 0.8314, 0.8000, 0.7569, 0.8039, 0.8275, 0.8824,\n",
              "           0.8471, 0.7255, 0.7725, 0.8078, 0.7765, 0.8353, 0.9412, 0.7647,\n",
              "           0.8902, 0.9608, 0.9373, 0.8745, 0.8549, 0.8314, 0.8196, 0.8706,\n",
              "           0.8627, 0.8667, 0.9020, 0.2627],\n",
              "          [0.1882, 0.7961, 0.7176, 0.7608, 0.8353, 0.7725, 0.7255, 0.7451,\n",
              "           0.7608, 0.7529, 0.7922, 0.8392, 0.8588, 0.8667, 0.8627, 0.9255,\n",
              "           0.8824, 0.8471, 0.7804, 0.8078, 0.7294, 0.7098, 0.6941, 0.6745,\n",
              "           0.7098, 0.8039, 0.8078, 0.4510],\n",
              "          [0.0000, 0.4784, 0.8588, 0.7569, 0.7020, 0.6706, 0.7176, 0.7686,\n",
              "           0.8000, 0.8235, 0.8353, 0.8118, 0.8275, 0.8235, 0.7843, 0.7686,\n",
              "           0.7608, 0.7490, 0.7647, 0.7490, 0.7765, 0.7529, 0.6902, 0.6118,\n",
              "           0.6549, 0.6941, 0.8235, 0.3608],\n",
              "          [0.0000, 0.0000, 0.2902, 0.7412, 0.8314, 0.7490, 0.6863, 0.6745,\n",
              "           0.6863, 0.7098, 0.7255, 0.7373, 0.7412, 0.7373, 0.7569, 0.7765,\n",
              "           0.8000, 0.8196, 0.8235, 0.8235, 0.8275, 0.7373, 0.7373, 0.7608,\n",
              "           0.7529, 0.8471, 0.6667, 0.0000],\n",
              "          [0.0078, 0.0000, 0.0000, 0.0000, 0.2588, 0.7843, 0.8706, 0.9294,\n",
              "           0.9373, 0.9490, 0.9647, 0.9529, 0.9569, 0.8667, 0.8627, 0.7569,\n",
              "           0.7490, 0.7020, 0.7137, 0.7137, 0.7098, 0.6902, 0.6510, 0.6588,\n",
              "           0.3882, 0.2275, 0.0000, 0.0000],\n",
              "          [0.0000, 0.0000, 0.0000, 0.0000, 0.0000, 0.0000, 0.0000, 0.1569,\n",
              "           0.2392, 0.1725, 0.2824, 0.1608, 0.1373, 0.0000, 0.0000, 0.0000,\n",
              "           0.0000, 0.0000, 0.0000, 0.0000, 0.0000, 0.0000, 0.0000, 0.0000,\n",
              "           0.0000, 0.0000, 0.0000, 0.0000],\n",
              "          [0.0000, 0.0000, 0.0000, 0.0000, 0.0000, 0.0000, 0.0000, 0.0000,\n",
              "           0.0000, 0.0000, 0.0000, 0.0000, 0.0000, 0.0000, 0.0000, 0.0000,\n",
              "           0.0000, 0.0000, 0.0000, 0.0000, 0.0000, 0.0000, 0.0000, 0.0000,\n",
              "           0.0000, 0.0000, 0.0000, 0.0000],\n",
              "          [0.0000, 0.0000, 0.0000, 0.0000, 0.0000, 0.0000, 0.0000, 0.0000,\n",
              "           0.0000, 0.0000, 0.0000, 0.0000, 0.0000, 0.0000, 0.0000, 0.0000,\n",
              "           0.0000, 0.0000, 0.0000, 0.0000, 0.0000, 0.0000, 0.0000, 0.0000,\n",
              "           0.0000, 0.0000, 0.0000, 0.0000]]]),\n",
              " 9)"
            ]
          },
          "metadata": {},
          "execution_count": 58
        }
      ]
    },
    {
      "cell_type": "code",
      "source": [
        "# Print the classes\n",
        "class_names = train_data.classes\n",
        "class_names"
      ],
      "metadata": {
        "colab": {
          "base_uri": "https://localhost:8080/"
        },
        "id": "t2xIlVxMzyJj",
        "outputId": "7e5e9ee0-e053-476b-f503-92c6da63f998"
      },
      "execution_count": 59,
      "outputs": [
        {
          "output_type": "execute_result",
          "data": {
            "text/plain": [
              "['T-shirt/top',\n",
              " 'Trouser',\n",
              " 'Pullover',\n",
              " 'Dress',\n",
              " 'Coat',\n",
              " 'Sandal',\n",
              " 'Shirt',\n",
              " 'Sneaker',\n",
              " 'Bag',\n",
              " 'Ankle boot']"
            ]
          },
          "metadata": {},
          "execution_count": 59
        }
      ]
    },
    {
      "cell_type": "code",
      "source": [
        "# Checking the dimension of the image tensor\n",
        "image.shape, label"
      ],
      "metadata": {
        "colab": {
          "base_uri": "https://localhost:8080/"
        },
        "id": "Wvbv9-suy4eE",
        "outputId": "19e3c6e1-2cd9-4289-f9c3-633d3d0e1a58"
      },
      "execution_count": 60,
      "outputs": [
        {
          "output_type": "execute_result",
          "data": {
            "text/plain": [
              "(torch.Size([1, 28, 28]), 9)"
            ]
          },
          "metadata": {},
          "execution_count": 60
        }
      ]
    },
    {
      "cell_type": "code",
      "source": [
        "class_names[label]"
      ],
      "metadata": {
        "colab": {
          "base_uri": "https://localhost:8080/",
          "height": 36
        },
        "id": "7cyJwUtD2wmK",
        "outputId": "cac07b66-c928-4168-f502-8649af8e8fdc"
      },
      "execution_count": 61,
      "outputs": [
        {
          "output_type": "execute_result",
          "data": {
            "text/plain": [
              "'Ankle boot'"
            ],
            "application/vnd.google.colaboratory.intrinsic+json": {
              "type": "string"
            }
          },
          "metadata": {},
          "execution_count": 61
        }
      ]
    },
    {
      "cell_type": "code",
      "source": [
        "# Visualize the images\n",
        "plt.figure(figsize=(10, 4))\n",
        "fig, ax = plt.subplots(2, 5)\n",
        "for i in range(10):\n",
        "  image, label = train_data[i]\n",
        "\n",
        "  # Select the appropriate subplot\n",
        "  row = i // 5\n",
        "  col = i % 5\n",
        "\n",
        "  ax[row, col].set_title(class_names[label])\n",
        "  ax[row, col].imshow(image.squeeze(), cmap='gray')\n",
        "\n",
        "  ax[row, col].axis(False)"
      ],
      "metadata": {
        "colab": {
          "base_uri": "https://localhost:8080/",
          "height": 364
        },
        "id": "kfnD7PWazfRi",
        "outputId": "ffa1ad06-f0ce-4480-caba-302027f9b945"
      },
      "execution_count": 62,
      "outputs": [
        {
          "output_type": "display_data",
          "data": {
            "text/plain": [
              "<Figure size 1000x400 with 0 Axes>"
            ]
          },
          "metadata": {}
        },
        {
          "output_type": "display_data",
          "data": {
            "text/plain": [
              "<Figure size 640x480 with 10 Axes>"
            ],
            "image/png": "[encoded data removed]"
          },
          "metadata": {}
        }
      ]
    },
    {
      "cell_type": "markdown",
      "source": [
        "#**Data loader**\n",
        "While training a model, we typically want to pass samples in “minibatches”, reshuffle the data at every epoch to reduce model overfitting"
      ],
      "metadata": {
        "id": "Kpcji8pbL4ac"
      }
    },
    {
      "cell_type": "code",
      "source": [
        "# Set the size of mini batch\n",
        "BATCH_SIZE = 32\n",
        "\n",
        "train_dataloader = DataLoader(train_data,\n",
        "                              batch_size=BATCH_SIZE,\n",
        "                              shuffle=True # it will take shuffle the samples while selecting for a batch\n",
        "                              )\n",
        "test_dataloader = DataLoader(test_data,\n",
        "                             batch_size=BATCH_SIZE,\n",
        "                             shuffle=True\n",
        "                             )"
      ],
      "metadata": {
        "id": "rCVINmlI1Xj_"
      },
      "execution_count": 63,
      "outputs": []
    },
    {
      "cell_type": "code",
      "source": [
        "print(f\"Number of training batches: {len(train_dataloader)} of batch size {BATCH_SIZE}\")\n",
        "print(f\"Number of testing batches: {len(test_dataloader)} of batch size {BATCH_SIZE}\")"
      ],
      "metadata": {
        "colab": {
          "base_uri": "https://localhost:8080/"
        },
        "id": "bUBDnyvRMk-4",
        "outputId": "8bdab11d-00c8-44d9-e3b7-2cbe994690d2"
      },
      "execution_count": 64,
      "outputs": [
        {
          "output_type": "stream",
          "name": "stdout",
          "text": [
            "Number of training batches: 1875 of batch size 32\n",
            "Number of testing batches: 313 of batch size 32\n"
          ]
        }
      ]
    },
    {
      "cell_type": "code",
      "source": [
        "# Display image and label inside a batch\n",
        "torch.manual_seed(42)\n",
        "\n",
        "train_features, train_labels = next(iter(train_dataloader))\n",
        "\n",
        "print(f\"Feature batch shape: {train_features.size()}\")\n",
        "print(f\"Labels batch shape: {train_labels.size()}\")\n",
        "\n",
        "img = train_features[0].squeeze()\n",
        "label = train_labels[0]\n",
        "plt.imshow(img, cmap=\"gray\")\n",
        "plt.show()\n",
        "print(f\"Label: {label}\")\n",
        "print(f\"Class label: {class_names[label]}\")"
      ],
      "metadata": {
        "colab": {
          "base_uri": "https://localhost:8080/",
          "height": 502
        },
        "id": "T7eoob7yNdPv",
        "outputId": "e5a6481e-95c5-42ab-c190-f108f65319a1"
      },
      "execution_count": 65,
      "outputs": [
        {
          "output_type": "stream",
          "name": "stdout",
          "text": [
            "Feature batch shape: torch.Size([32, 1, 28, 28])\n",
            "Labels batch shape: torch.Size([32])\n"
          ]
        },
        {
          "output_type": "display_data",
          "data": {
            "text/plain": [
              "<Figure size 640x480 with 1 Axes>"
            ],
            "image/png": "[encoded data removed]"
          },
          "metadata": {}
        },
        {
          "output_type": "stream",
          "name": "stdout",
          "text": [
            "Label: 5\n",
            "Class label: Sandal\n"
          ]
        }
      ]
    },
    {
      "cell_type": "markdown",
      "source": [
        "#**Build a baseline model**"
      ],
      "metadata": {
        "id": "FIkuRf04Pfbv"
      }
    },
    {
      "cell_type": "code",
      "source": [
        "# This is a baseline model with simple neural network, we will improve the model based on this model\n",
        "class FashionMnistModelV0(nn.Module):\n",
        "  def __init__(self, input_units: int, hidden_units: int, output_units: int):\n",
        "    super().__init__()\n",
        "    self.layer_stack = nn.Sequential(\n",
        "        nn.Flatten(), # we perform flatten because our model can't work on multidimensional input, so because of this it converts multidimensional data to 1 dimension\n",
        "        nn.Linear(in_features=input_units, out_features=hidden_units),\n",
        "        nn.Linear(in_features=hidden_units, out_features=output_units)\n",
        "    )\n",
        "\n",
        "  def forward(self, x: torch.Tensor):\n",
        "    return self.layer_stack(x)"
      ],
      "metadata": {
        "id": "z97bKi7SN0cS"
      },
      "execution_count": 66,
      "outputs": []
    },
    {
      "cell_type": "code",
      "source": [
        "# Instantiating the model\n",
        "model_0 = FashionMnistModelV0(784, # size of input image with is (28, 28) -> input features will be 28*28\n",
        "                              16, # number of hidden units\n",
        "                              10 # As we have 10 different classes\n",
        "                              ).to('cpu')\n",
        "model_0"
      ],
      "metadata": {
        "colab": {
          "base_uri": "https://localhost:8080/"
        },
        "id": "lelkwE9rRc6j",
        "outputId": "95fc9884-ae99-47a1-fc90-429bbeb25fab"
      },
      "execution_count": 67,
      "outputs": [
        {
          "output_type": "execute_result",
          "data": {
            "text/plain": [
              "FashionMnistModelV0(\n",
              "  (layer_stack): Sequential(\n",
              "    (0): Flatten(start_dim=1, end_dim=-1)\n",
              "    (1): Linear(in_features=784, out_features=16, bias=True)\n",
              "    (2): Linear(in_features=16, out_features=10, bias=True)\n",
              "  )\n",
              ")"
            ]
          },
          "metadata": {},
          "execution_count": 67
        }
      ]
    },
    {
      "cell_type": "code",
      "source": [
        "# Setting up the loss function and optimizer\n",
        "loss_function = nn.CrossEntropyLoss() # as our problem is multiclass classification so we are using cross entropy loss\n",
        "\n",
        "LEARNING_RATE = 0.001\n",
        "optimizer = torch.optim.Adam(model_0.parameters(), lr=LEARNING_RATE)\n",
        "\n",
        "# Calculate accuracy metrics\n",
        "def accuracy_fn(y_true, y_pred):\n",
        "    \"\"\"Calculates accuracy between truth labels and predictions.\n",
        "\n",
        "    Args:\n",
        "        y_true (torch.Tensor): Truth labels for predictions.\n",
        "        y_pred (torch.Tensor): Predictions to be compared to predictions.\n",
        "\n",
        "    Returns:\n",
        "        [torch.float]: Accuracy value between y_true and y_pred, e.g. 78.45\n",
        "    \"\"\"\n",
        "    correct = torch.eq(y_true, y_pred).sum().item()\n",
        "    acc = (correct / len(y_pred)) * 100\n",
        "    return acc"
      ],
      "metadata": {
        "id": "5o6RkMJWTVNF"
      },
      "execution_count": 68,
      "outputs": []
    },
    {
      "cell_type": "code",
      "source": [
        "from timeit import default_timer as timer\n",
        "# Function to calculate the model's execution time so that we can find how fast is our model performing\n",
        "def calculate_time(start: float, end: float, device: str):\n",
        "  print(f'Total time: {end - start} seconds on device {device}')"
      ],
      "metadata": {
        "id": "blSd3qDsT1xJ"
      },
      "execution_count": 69,
      "outputs": []
    },
    {
      "cell_type": "markdown",
      "source": [
        "#**Create training loop and train the model**"
      ],
      "metadata": {
        "id": "4APuraCPWwzB"
      }
    },
    {
      "cell_type": "code",
      "source": [
        "# tqdm -> make loops show a smart progress meter\n",
        "from tqdm.auto import tqdm\n",
        "\n",
        "# Setup seed and start the timer\n",
        "torch.manual_seed(42)\n",
        "start = timer()\n",
        "\n",
        "# Number of epochs to train our model\n",
        "epochs = 3\n",
        "\n",
        "for epoch in tqdm(range(epochs)):\n",
        "  print(f\"Epoch {epoch}\")\n",
        "\n",
        "  '''\n",
        "  As we will be calculating the training loss and accuracy per batch so we will set it 0 initially and after training we can perform average to get the training loss and accuracy\n",
        "  for that epoch\n",
        "  '''\n",
        "  training_loss = 0\n",
        "  training_accuracy = 0\n",
        "\n",
        "  # Now we will train our model batch wise\n",
        "  # train_dataloader returns input and labels, and we are using enumerate to get the batch number ie. batch 0, batch 1, batch 2...\n",
        "  for batch, (X_train, y_train) in enumerate(train_dataloader):\n",
        "    # Step 1: Set the model for training phase\n",
        "    model_0.train()\n",
        "\n",
        "    # Step 2: Perform the forward pass\n",
        "    y_pred_train = model_0(X_train)\n",
        "\n",
        "    # Step 3: Calculate the training loss and accuracy per batch\n",
        "    train_loss = loss_function(y_pred_train, y_train)\n",
        "    train_accuracy = accuracy_fn(y_train, y_pred_train.argmax(dim=1))\n",
        "\n",
        "    # Step 4: Set up the gradient to zero\n",
        "    optimizer.zero_grad()\n",
        "\n",
        "    # Step 5: Perform the gradient descent\n",
        "    train_loss.backward()\n",
        "\n",
        "    # Step 6: Take step in the direction of low gradient\n",
        "    optimizer.step()\n",
        "\n",
        "    # Collecting all the training loss and accuracy per batches\n",
        "    training_loss += train_loss\n",
        "    training_accuracy += train_accuracy\n",
        "\n",
        "    # Print out the progress\n",
        "    if batch % 400 == 0:\n",
        "      print(f'Current training completed for {batch * len(X_train)} / {len(train_dataloader.dataset)} samples')\n",
        "\n",
        "  # Calculate the average training loss and accuracy for the current epoch\n",
        "  training_loss /= len(train_dataloader)\n",
        "  training_accuracy /= len(train_dataloader)\n",
        "\n",
        "  # Set the model for testing phase\n",
        "  model_0.eval()\n",
        "\n",
        "  '''\n",
        "  As we will be calculating the testing loss and accuracy per batch so we will set it 0 initially and after testing we can perform average to get the testing loss and accuracy\n",
        "  for that epoch\n",
        "  '''\n",
        "  testing_loss = 0\n",
        "  testing_accuracy = 0\n",
        "\n",
        "  with torch.inference_mode():\n",
        "    for X_test, y_test in test_dataloader:\n",
        "      # Perform the forward pass\n",
        "      y_pred_test = model_0(X_test)\n",
        "\n",
        "      # Calculate the loss per batch\n",
        "      test_loss = loss_function(y_pred_test, y_test)\n",
        "\n",
        "      # Calculate the accuracy per batch\n",
        "      test_accuracy = accuracy_fn(y_test, y_pred_test.argmax(dim=1))\n",
        "\n",
        "      # Collecting all the testing loss and accuracy per batch\n",
        "      testing_loss += test_loss\n",
        "      testing_accuracy += test_accuracy\n",
        "\n",
        "    # Calculate the average testing loss and accuracy for the current epoch\n",
        "    testing_loss /= len(test_dataloader)\n",
        "    testing_accuracy /= len(test_dataloader)\n",
        "\n",
        "  print(f\"Training loss: {training_loss: .4f}, Training accuracy: {training_accuracy: .4f}%, Testing loss: {testing_loss: .4f}, Testing accuracy: {testing_accuracy: .4f}%,\")\n",
        "\n",
        "end = timer()\n",
        "calculate_time(start, end, 'cpu')"
      ],
      "metadata": {
        "colab": {
          "base_uri": "https://localhost:8080/",
          "height": 444,
          "referenced_widgets": [
            "3c3f3843c6114edd96aa95694d5b4d21",
            "8a12d806102545bca8f13bb9cdc11ef6",
            "515c2c15362943a4a1204bbd2c185add",
            "55bad253819d4cb39016c2d2d2b302d3",
            "6df2a92437e74b0aaaa287005d4c6875",
            "e965c124cd7e4a3a8606c6aeaaf50515",
            "a6c6baa7fb164385b93c4cd6b24286fa",
            "d96972d3e2534a22acdb11a1d0f8311a",
            "fe972f8f579049a29a73ea79e29e269b",
            "d831d292efad4e5f8f5451875af07cbd",
            "3f96f3be5d8740af874a452e05dbb058"
          ]
        },
        "id": "AVS9Izb0V8jZ",
        "outputId": "902c21e2-a390-4543-da83-228826494207"
      },
      "execution_count": 70,
      "outputs": [
        {
          "output_type": "display_data",
          "data": {
            "text/plain": [
              "  0%|          | 0/3 [00:00<?, ?it/s]"
            ],
            "application/vnd.jupyter.widget-view+json": {
              "version_major": 2,
              "version_minor": 0,
              "model_id": "3c3f3843c6114edd96aa95694d5b4d21"
            }
          },
          "metadata": {}
        },
        {
          "output_type": "stream",
          "name": "stdout",
          "text": [
            "Epoch 0\n",
            "Current training completed for 0 / 60000 samples\n",
            "Current training completed for 12800 / 60000 samples\n",
            "Current training completed for 25600 / 60000 samples\n",
            "Current training completed for 38400 / 60000 samples\n",
            "Current training completed for 51200 / 60000 samples\n",
            "Training loss:  0.5851, Training accuracy:  80.0033%, Testing loss:  0.4954, Testing accuracy:  82.6278%,\n",
            "Epoch 1\n",
            "Current training completed for 0 / 60000 samples\n",
            "Current training completed for 12800 / 60000 samples\n",
            "Current training completed for 25600 / 60000 samples\n",
            "Current training completed for 38400 / 60000 samples\n",
            "Current training completed for 51200 / 60000 samples\n",
            "Training loss:  0.4512, Training accuracy:  84.1783%, Testing loss:  0.4948, Testing accuracy:  82.3283%,\n",
            "Epoch 2\n",
            "Current training completed for 0 / 60000 samples\n",
            "Current training completed for 12800 / 60000 samples\n",
            "Current training completed for 25600 / 60000 samples\n",
            "Current training completed for 38400 / 60000 samples\n",
            "Current training completed for 51200 / 60000 samples\n",
            "Training loss:  0.4296, Training accuracy:  85.0983%, Testing loss:  0.4591, Testing accuracy:  83.9657%,\n",
            "Total time: 30.2993165339999 seconds on device cpu\n"
          ]
        }
      ]
    },
    {
      "cell_type": "markdown",
      "source": [
        "#**Test the model**"
      ],
      "metadata": {
        "id": "a-FvCftnjNCh"
      }
    },
    {
      "cell_type": "code",
      "source": [
        "# Function to return the results of the model on the data passed\n",
        "def model_eval(model: torch.nn.Module, data: torch.utils.data.DataLoader, loss_function=loss_function, accuracy_function=accuracy_fn):\n",
        "  model.eval()\n",
        "\n",
        "  loss, accuracy = 0, 0\n",
        "\n",
        "  with torch.inference_mode():\n",
        "    # Loop through the batches and predict the output on the model\n",
        "    for X, y in tqdm(data):\n",
        "      # Perform the forward pass\n",
        "      y_pred = model(X)\n",
        "\n",
        "      # Calculate the loss and accuracy per batch\n",
        "      loss += loss_function(y_pred, y)\n",
        "      accuracy += accuracy_function(y, y_pred.argmax(dim=1))\n",
        "\n",
        "    # Calculate the average loss and accuracy\n",
        "    loss /= len(test_dataloader)\n",
        "    accuracy /= len(test_dataloader)\n",
        "\n",
        "  # Returning all the result of the model prediction\n",
        "  return {\n",
        "      \"model_name\": model.__class__,\n",
        "      \"model_loss\": loss.item(),\n",
        "      \"model_accuracy\": accuracy\n",
        "  }"
      ],
      "metadata": {
        "id": "s3l6bH8dhNJf"
      },
      "execution_count": 71,
      "outputs": []
    },
    {
      "cell_type": "code",
      "source": [
        "model_eval(model_0, test_dataloader, loss_function, accuracy_fn)"
      ],
      "metadata": {
        "colab": {
          "base_uri": "https://localhost:8080/",
          "height": 103,
          "referenced_widgets": [
            "4e3ed81068da436d829b80f79c899df5",
            "d463c5dbb2974e8bb482b401293251ae",
            "4431dc1ba11743acaf3f086865f6f71f",
            "0e760dfd2e7e44228b9d47c41c6b4130",
            "b246a0e9e7c04b72ac28bae4ef8947b6",
            "6cd80f2c59774636ad81587afec8bb70",
            "31307ea2abf94932a76340f1d9a5b9b5",
            "f515dba511ce4dd48e9c7aeafb9ead8f",
            "762b278f1e8b42ac982490f90ea5fe74",
            "6f60d55021694f1997183962ba1d5430",
            "a5644f6ef523469e950a560aff9f10b9"
          ]
        },
        "id": "dPx_3H7MoyLT",
        "outputId": "c8ee71bf-fe9b-4245-b61b-290e5e991278"
      },
      "execution_count": 72,
      "outputs": [
        {
          "output_type": "display_data",
          "data": {
            "text/plain": [
              "  0%|          | 0/313 [00:00<?, ?it/s]"
            ],
            "application/vnd.jupyter.widget-view+json": {
              "version_major": 2,
              "version_minor": 0,
              "model_id": "4e3ed81068da436d829b80f79c899df5"
            }
          },
          "metadata": {}
        },
        {
          "output_type": "execute_result",
          "data": {
            "text/plain": [
              "{'model_name': __main__.FashionMnistModelV0,\n",
              " 'model_loss': 0.45844370126724243,\n",
              " 'model_accuracy': 83.995607028754}"
            ]
          },
          "metadata": {},
          "execution_count": 72
        }
      ]
    },
    {
      "cell_type": "markdown",
      "source": [
        "#**Run the model on GPU**"
      ],
      "metadata": {
        "id": "PVMdJBkypZu4"
      }
    },
    {
      "cell_type": "code",
      "source": [
        "device = 'cuda' if torch.cuda.is_available() else 'cpu'\n",
        "device"
      ],
      "metadata": {
        "colab": {
          "base_uri": "https://localhost:8080/",
          "height": 36
        },
        "id": "vABO4401pEjc",
        "outputId": "c84a9b0c-bcc4-4d5b-b229-c2143c54f582"
      },
      "execution_count": 73,
      "outputs": [
        {
          "output_type": "execute_result",
          "data": {
            "text/plain": [
              "'cuda'"
            ],
            "application/vnd.google.colaboratory.intrinsic+json": {
              "type": "string"
            }
          },
          "metadata": {},
          "execution_count": 73
        }
      ]
    },
    {
      "cell_type": "markdown",
      "source": [
        "#**Build model**\n",
        "As our previous model performed good with accuracy with 84%, lets try to add some non linearity and run on the GPU"
      ],
      "metadata": {
        "id": "Zj-gJ8Cbz8vz"
      }
    },
    {
      "cell_type": "code",
      "source": [
        "class FashionMnistModelV1(nn.Module):\n",
        "  def __init__(self, input_units, hidden_units, output_units):\n",
        "    super().__init__()\n",
        "    self.layer_stack = nn.Sequential(\n",
        "        nn.Flatten(),\n",
        "        nn.Linear(in_features=input_units, out_features=hidden_units),\n",
        "        nn.ReLU(),\n",
        "        nn.Linear(in_features=hidden_units, out_features=hidden_units),\n",
        "        nn.ReLU(),\n",
        "        nn.Linear(in_features=hidden_units, out_features=output_units),\n",
        "    )\n",
        "\n",
        "  def forward(self, x: torch.Tensor):\n",
        "    return self.layer_stack(x)"
      ],
      "metadata": {
        "id": "ji7k5toCzfUs"
      },
      "execution_count": 74,
      "outputs": []
    },
    {
      "cell_type": "code",
      "source": [
        "# Instantiating the model\n",
        "model_1 = FashionMnistModelV1(784, # size of input image with is (28, 28) -> input features will be 28*28\n",
        "                              16, # number of hidden units\n",
        "                              10 # As we have 10 different classes\n",
        "                              ).to(device)\n",
        "model_1"
      ],
      "metadata": {
        "colab": {
          "base_uri": "https://localhost:8080/"
        },
        "id": "ahzOEV-D2kRV",
        "outputId": "efb6ff8e-3ef3-4456-f4a6-00d9a918dbe9"
      },
      "execution_count": 75,
      "outputs": [
        {
          "output_type": "execute_result",
          "data": {
            "text/plain": [
              "FashionMnistModelV1(\n",
              "  (layer_stack): Sequential(\n",
              "    (0): Flatten(start_dim=1, end_dim=-1)\n",
              "    (1): Linear(in_features=784, out_features=16, bias=True)\n",
              "    (2): ReLU()\n",
              "    (3): Linear(in_features=16, out_features=16, bias=True)\n",
              "    (4): ReLU()\n",
              "    (5): Linear(in_features=16, out_features=10, bias=True)\n",
              "  )\n",
              ")"
            ]
          },
          "metadata": {},
          "execution_count": 75
        }
      ]
    },
    {
      "cell_type": "code",
      "source": [
        "# Setting up the loss function and optimizer\n",
        "loss_function = nn.CrossEntropyLoss() # as our problem is multiclass classification so we are using cross entropy loss\n",
        "\n",
        "LEARNING_RATE = 0.01\n",
        "optimizer = torch.optim.Adam(model_1.parameters(), lr=LEARNING_RATE)"
      ],
      "metadata": {
        "id": "yiQLxooF2uTu"
      },
      "execution_count": 76,
      "outputs": []
    },
    {
      "cell_type": "markdown",
      "source": [
        "#**Create training loop and train the model**"
      ],
      "metadata": {
        "id": "Jr7wskXl2-kb"
      }
    },
    {
      "cell_type": "code",
      "source": [
        "def trainLoop(model: torch.nn.Module, # model to train\n",
        "               data: torch.utils.data.DataLoader, # Data to train on\n",
        "               loss_function: torch.nn.Module, # Function to calculate the loss\n",
        "               optimizer: torch.nn.Module, # nn Module to perform the optimization of neural network\n",
        "               accuracy_function, # Function to calculate the accuracy\n",
        "               device: str # Device on which we want to train the model \"cpu\" / \"cuda\"\n",
        "               ):\n",
        "  '''\n",
        "  This function take the parameters and train the model on the data and prints the result of trained model\n",
        "  '''\n",
        "\n",
        "  '''\n",
        "  As we will be calculating the training loss and accuracy per batch so we will set it 0 initially and after training we can perform average to get the training loss and accuracy\n",
        "  for that epoch\n",
        "  '''\n",
        "  training_loss, training_accuracy = 0, 0\n",
        "\n",
        "  # Setup model for training phase\n",
        "  model.train()\n",
        "\n",
        "  # Now we will train our model batch wise\n",
        "  # Data loader returns input and labels, and we are using enumerate to get the batch number ie. batch 0, batch 1, batch 2..\n",
        "  for batch, (X_train, y_train) in enumerate(data):\n",
        "\n",
        "    # Setup the data to the appropriate device\n",
        "    X_train, y_train = X_train.to(device), y_train.to(device)\n",
        "\n",
        "    # Perform the forward pass on the training data\n",
        "    y_pred_train = model(X_train)\n",
        "\n",
        "    # Calculate the training loss and accuracy per batch\n",
        "    train_loss = loss_function(y_pred_train, y_train)\n",
        "    training_loss += train_loss\n",
        "    training_accuracy += accuracy_fn(y_train, y_pred_train.argmax(dim=1))\n",
        "\n",
        "    # Set up the gradient to zero\n",
        "    optimizer.zero_grad()\n",
        "\n",
        "    # Perform the gradient descent\n",
        "    train_loss.backward()\n",
        "\n",
        "    # Take step towards the lowest gradient\n",
        "    optimizer.step()\n",
        "\n",
        "  # Calculate the average training loss and accuracy for the current epoch\n",
        "  training_loss /= len(data)\n",
        "  training_accuracy /= len(data)\n",
        "  print(f\"Training loss: {training_loss: .5f}, Training accuracy: {training_accuracy: .5f}\")\n",
        "\n",
        "\n",
        "def testLoop(model: torch.nn.Module, # model to train\n",
        "              data: torch.utils.data.DataLoader, # Data to test on\n",
        "               loss_function: torch.nn.Module, # Function to calculate the loss\n",
        "               accuracy_function, # Function to calculate the accuracy\n",
        "               device: str # Device on which we want to train the model \"cpu\" / \"cuda\"\n",
        "            ):\n",
        "\n",
        "  # Setup model for testing phase\n",
        "  model.eval()\n",
        "\n",
        "  with torch.inference_mode():\n",
        "    '''\n",
        "    As we will be calculating the testing loss and accuracy per batch so we will set it 0 initially and after testing we can perform average to get the testing loss and accuracy\n",
        "    for that epoch\n",
        "    '''\n",
        "    testing_loss, testing_accuracy = 0, 0\n",
        "\n",
        "    for X_test, y_test in data:\n",
        "      # Set the data to the appropriate device\n",
        "      X_test, y_test = X_test.to(device), y_test.to(device)\n",
        "\n",
        "      # Perform the forward pass on the data\n",
        "      y_pred_test = model(X_test)\n",
        "\n",
        "      # Calculate the testing loss and accuracy and accumulate through out the batches\n",
        "      testing_loss += loss_function(y_pred_test, y_test)\n",
        "      testing_accuracy += accuracy_fn(y_test, y_pred_test.argmax(dim=1))\n",
        "\n",
        "    # Calculate the average training loss and accuracy for test batch data\n",
        "    testing_loss /= len(test_dataloader)\n",
        "    testing_accuracy /= len(test_dataloader)\n",
        "    print(f\"Testing loss: {testing_loss: .5f}, Testing accuracy: {testing_accuracy: .5f}\")"
      ],
      "metadata": {
        "id": "g4JPiL0EFApk"
      },
      "execution_count": 77,
      "outputs": []
    },
    {
      "cell_type": "code",
      "source": [
        "torch.manual_seed(42)\n",
        "\n",
        "# Start the timer so that we can calulate the time taken to run the model on gpu\n",
        "start = timer()\n",
        "\n",
        "# Setup number of epochs to train the model\n",
        "epochs = 3\n",
        "\n",
        "# Iterate through the epochs.\n",
        "for epoch in tqdm(range(epochs)):\n",
        "  print(f\"Epoch {epoch}:\")\n",
        "\n",
        "  # Start the train of model\n",
        "  trainLoop(model_1, train_dataloader, loss_function, optimizer, accuracy_fn, device)\n",
        "\n",
        "  # Test the model\n",
        "  testLoop(model_1, test_dataloader, loss_function, accuracy_fn, device)\n",
        "\n",
        "# Stop the timer\n",
        "end = timer()\n",
        "\n",
        "# Print out the total time taken to run and train the model\n",
        "calculate_time(start, end, device)\n"
      ],
      "metadata": {
        "colab": {
          "base_uri": "https://localhost:8080/",
          "height": 229,
          "referenced_widgets": [
            "31c46bbc6e49461caa3ef4adb3e1e07b",
            "43b8ede7a6fd40209ee63140482522b5",
            "8899067859194b3bb3d9bcffe4f94114",
            "7496a1099f7a482cbcc753c33651291e",
            "9339973d416f447ebc5bc266b8ccd228",
            "5fce7a6b6822488990ffa9ba15400b59",
            "fee0c056197a4bfc9c47f03fe42c133b",
            "eff25923cad743fb98ab165e6a08f737",
            "26f92607f7de442db22f84628b7c7d3a",
            "505d77d1a10b4659bd2e37180d7494ad",
            "cc4c49d15c014058af8d679f67f75372"
          ]
        },
        "id": "2XgySbT2247Y",
        "outputId": "9cf9e064-3c40-42d9-fbb8-2b589efff37e"
      },
      "execution_count": 78,
      "outputs": [
        {
          "output_type": "display_data",
          "data": {
            "text/plain": [
              "  0%|          | 0/3 [00:00<?, ?it/s]"
            ],
            "application/vnd.jupyter.widget-view+json": {
              "version_major": 2,
              "version_minor": 0,
              "model_id": "31c46bbc6e49461caa3ef4adb3e1e07b"
            }
          },
          "metadata": {}
        },
        {
          "output_type": "stream",
          "name": "stdout",
          "text": [
            "Epoch 0:\n",
            "Training loss:  0.56887, Training accuracy:  79.39833\n",
            "Testing loss:  0.47316, Testing accuracy:  83.47644\n",
            "Epoch 1:\n",
            "Training loss:  0.46227, Training accuracy:  83.75667\n",
            "Testing loss:  0.45737, Testing accuracy:  83.91573\n",
            "Epoch 2:\n",
            "Training loss:  0.44133, Training accuracy:  84.37500\n",
            "Testing loss:  0.46362, Testing accuracy:  84.07548\n",
            "Total time: 33.20845740599998 seconds on device cuda\n"
          ]
        }
      ]
    },
    {
      "cell_type": "code",
      "source": [],
      "metadata": {
        "id": "cUeHQbne7S7n"
      },
      "execution_count": 78,
      "outputs": []
    }
  ]
}