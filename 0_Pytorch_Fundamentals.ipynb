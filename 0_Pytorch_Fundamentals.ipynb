{
  "nbformat": 4,
  "nbformat_minor": 0,
  "metadata": {
    "colab": {
      "provenance": [],
      "authorship_tag": "ABX9TyPlFzEXy25CrjHT8W19Nsq4",
      "include_colab_link": true
    },
    "kernelspec": {
      "name": "python3",
      "display_name": "Python 3"
    },
    "language_info": {
      "name": "python"
    }
  },
  "cells": [
    {
      "cell_type": "markdown",
      "metadata": {
        "id": "view-in-github",
        "colab_type": "text"
      },
      "source": [
        "<a href=\"https://colab.research.google.com/github/DarshanDinni/learn_pytorch/blob/main/0_Pytorch_Fundamentals.ipynb\" target=\"_parent\"><img src=\"https://colab.research.google.com/assets/colab-badge.svg\" alt=\"Open In Colab\"/></a>"
      ]
    },
    {
      "cell_type": "markdown",
      "source": [
        "##Pytorch Fundamentals"
      ],
      "metadata": {
        "id": "fPiWW-03F_w9"
      }
    },
    {
      "cell_type": "code",
      "execution_count": 2,
      "metadata": {
        "id": "5n75phKUEHiu"
      },
      "outputs": [],
      "source": [
        "# Importing the libraries\n",
        "import torch\n",
        "import numpy as np\n",
        "import pandas as pd\n",
        "import matplotlib.pyplot as plt"
      ]
    },
    {
      "cell_type": "code",
      "source": [
        "# Checking the version of pytorch\n",
        "print(torch.__version__)"
      ],
      "metadata": {
        "colab": {
          "base_uri": "https://localhost:8080/"
        },
        "id": "7QaN2XaoE8_l",
        "outputId": "cfe7fdab-db52-471a-e32d-09e3a935a873"
      },
      "execution_count": 3,
      "outputs": [
        {
          "output_type": "stream",
          "name": "stdout",
          "text": [
            "2.1.0+cu118\n"
          ]
        }
      ]
    },
    {
      "cell_type": "markdown",
      "source": [
        "##Fundamentals of Tensors"
      ],
      "metadata": {
        "id": "3L1_jPZPFfdB"
      }
    },
    {
      "cell_type": "code",
      "source": [
        "# Creating scalar\n",
        "scalar = torch.tensor(4)\n",
        "scalar"
      ],
      "metadata": {
        "colab": {
          "base_uri": "https://localhost:8080/"
        },
        "id": "n_2hvimSE_eV",
        "outputId": "1a17a883-0bd9-49f7-b005-2228070bff4c"
      },
      "execution_count": 4,
      "outputs": [
        {
          "output_type": "execute_result",
          "data": {
            "text/plain": [
              "tensor(4)"
            ]
          },
          "metadata": {},
          "execution_count": 4
        }
      ]
    },
    {
      "cell_type": "code",
      "source": [
        "# Checking the dimension of the tensor\n",
        "scalar.ndim"
      ],
      "metadata": {
        "colab": {
          "base_uri": "https://localhost:8080/"
        },
        "id": "eEbRGqh6Isel",
        "outputId": "ace2b785-b5af-4381-eaec-7c557f9863b4"
      },
      "execution_count": 5,
      "outputs": [
        {
          "output_type": "execute_result",
          "data": {
            "text/plain": [
              "0"
            ]
          },
          "metadata": {},
          "execution_count": 5
        }
      ]
    },
    {
      "cell_type": "code",
      "source": [
        "# Checking the shape of the tensor\n",
        "scalar.shape"
      ],
      "metadata": {
        "colab": {
          "base_uri": "https://localhost:8080/"
        },
        "id": "q5qTiQQzIwBV",
        "outputId": "20af8671-35e4-4ac0-f0a7-8cbf186aae65"
      },
      "execution_count": 6,
      "outputs": [
        {
          "output_type": "execute_result",
          "data": {
            "text/plain": [
              "torch.Size([])"
            ]
          },
          "metadata": {},
          "execution_count": 6
        }
      ]
    },
    {
      "cell_type": "code",
      "source": [
        "# Creating vector\n",
        "vector = torch.tensor([2,2])\n",
        "vector"
      ],
      "metadata": {
        "colab": {
          "base_uri": "https://localhost:8080/"
        },
        "id": "2AdJIWgGGQeN",
        "outputId": "6d954824-a623-4ea7-ec70-67ecbc876fe4"
      },
      "execution_count": 7,
      "outputs": [
        {
          "output_type": "execute_result",
          "data": {
            "text/plain": [
              "tensor([2, 2])"
            ]
          },
          "metadata": {},
          "execution_count": 7
        }
      ]
    },
    {
      "cell_type": "code",
      "source": [
        "# Checking the dimension of the tensor\n",
        "vector.ndim"
      ],
      "metadata": {
        "colab": {
          "base_uri": "https://localhost:8080/"
        },
        "id": "ndbFbpjwIrGU",
        "outputId": "61f0f5c6-5443-4674-c0c1-3cc3a1af668a"
      },
      "execution_count": 8,
      "outputs": [
        {
          "output_type": "execute_result",
          "data": {
            "text/plain": [
              "1"
            ]
          },
          "metadata": {},
          "execution_count": 8
        }
      ]
    },
    {
      "cell_type": "code",
      "source": [
        "# Checking the shape of the tensor\n",
        "vector.shape"
      ],
      "metadata": {
        "colab": {
          "base_uri": "https://localhost:8080/"
        },
        "id": "kVQmySa3JRmI",
        "outputId": "ffee528b-88e6-4c45-fcf9-9f86ab2e3c0e"
      },
      "execution_count": 9,
      "outputs": [
        {
          "output_type": "execute_result",
          "data": {
            "text/plain": [
              "torch.Size([2])"
            ]
          },
          "metadata": {},
          "execution_count": 9
        }
      ]
    },
    {
      "cell_type": "code",
      "source": [
        "# Creating tensor\n",
        "TENSOR = torch.tensor([[[1,2,3],\n",
        "                        [4,5,6],\n",
        "                        [7,8,9]]])\n",
        "TENSOR"
      ],
      "metadata": {
        "colab": {
          "base_uri": "https://localhost:8080/"
        },
        "id": "zMi4Gfr7JTyf",
        "outputId": "c33fe9ce-6f10-4c51-b536-abfdd7c7396e"
      },
      "execution_count": 10,
      "outputs": [
        {
          "output_type": "execute_result",
          "data": {
            "text/plain": [
              "tensor([[[1, 2, 3],\n",
              "         [4, 5, 6],\n",
              "         [7, 8, 9]]])"
            ]
          },
          "metadata": {},
          "execution_count": 10
        }
      ]
    },
    {
      "cell_type": "code",
      "source": [
        "# Checking the dimension of the tensor\n",
        "TENSOR.ndim"
      ],
      "metadata": {
        "colab": {
          "base_uri": "https://localhost:8080/"
        },
        "id": "_sMYY1pVKEdU",
        "outputId": "f9a159cf-7b22-4a27-cdfd-25f4d05123cf"
      },
      "execution_count": 11,
      "outputs": [
        {
          "output_type": "execute_result",
          "data": {
            "text/plain": [
              "3"
            ]
          },
          "metadata": {},
          "execution_count": 11
        }
      ]
    },
    {
      "cell_type": "code",
      "source": [
        "# Checking the shape of the tensor\n",
        "TENSOR.shape"
      ],
      "metadata": {
        "colab": {
          "base_uri": "https://localhost:8080/"
        },
        "id": "jWIjfJutKTkN",
        "outputId": "b7a12be3-1214-4c5e-b6c0-afdd614d608a"
      },
      "execution_count": 12,
      "outputs": [
        {
          "output_type": "execute_result",
          "data": {
            "text/plain": [
              "torch.Size([1, 3, 3])"
            ]
          },
          "metadata": {},
          "execution_count": 12
        }
      ]
    },
    {
      "cell_type": "markdown",
      "source": [
        "##Creating Random values\n",
        "\n",
        "We use random values because neural network starts intitally with random values and then updates them to train itself."
      ],
      "metadata": {
        "id": "goIwX0n2vKBC"
      }
    },
    {
      "cell_type": "code",
      "source": [
        "# Creating the random values using torch\n",
        "custom_random_values = torch.rand(1,2,3)\n",
        "custom_random_values"
      ],
      "metadata": {
        "colab": {
          "base_uri": "https://localhost:8080/"
        },
        "id": "ZhU_EasXKV7t",
        "outputId": "e9e3be9a-49af-4775-dc5b-bfb9ad381ec2"
      },
      "execution_count": 13,
      "outputs": [
        {
          "output_type": "execute_result",
          "data": {
            "text/plain": [
              "tensor([[[0.0920, 0.6285, 0.8391],\n",
              "         [0.7434, 0.9068, 0.2249]]])"
            ]
          },
          "metadata": {},
          "execution_count": 13
        }
      ]
    },
    {
      "cell_type": "code",
      "source": [
        "# Creating the random values for an color image of (255,255) dimensions\n",
        "custom_image_values = torch.rand(255, 255, 3)             # 3 indicates the color channels (R, G, B)\n",
        "custom_image_values.ndim, custom_image_values.shape"
      ],
      "metadata": {
        "colab": {
          "base_uri": "https://localhost:8080/"
        },
        "id": "MqdxoP7Nvonl",
        "outputId": "852b2959-bd9f-44e1-a71d-c93ccbea19b3"
      },
      "execution_count": 14,
      "outputs": [
        {
          "output_type": "execute_result",
          "data": {
            "text/plain": [
              "(3, torch.Size([255, 255, 3]))"
            ]
          },
          "metadata": {},
          "execution_count": 14
        }
      ]
    },
    {
      "cell_type": "markdown",
      "source": [
        "##Zero and One tensors"
      ],
      "metadata": {
        "id": "HuLyd7-NxTtN"
      }
    },
    {
      "cell_type": "code",
      "source": [
        "# Creating the zero tensor\n",
        "zero_tensor = torch.zeros(2,4)\n",
        "zero_tensor"
      ],
      "metadata": {
        "colab": {
          "base_uri": "https://localhost:8080/"
        },
        "id": "0CPZ8waHwYco",
        "outputId": "d2d6a624-cddc-4185-92cc-bce9422b0d2c"
      },
      "execution_count": 15,
      "outputs": [
        {
          "output_type": "execute_result",
          "data": {
            "text/plain": [
              "tensor([[0., 0., 0., 0.],\n",
              "        [0., 0., 0., 0.]])"
            ]
          },
          "metadata": {},
          "execution_count": 15
        }
      ]
    },
    {
      "cell_type": "code",
      "source": [
        "zero_tensor.dtype"
      ],
      "metadata": {
        "colab": {
          "base_uri": "https://localhost:8080/"
        },
        "id": "J793r6KNxsoR",
        "outputId": "edf99fd4-3cd8-4f3a-aa4b-5d619b818e7d"
      },
      "execution_count": 16,
      "outputs": [
        {
          "output_type": "execute_result",
          "data": {
            "text/plain": [
              "torch.float32"
            ]
          },
          "metadata": {},
          "execution_count": 16
        }
      ]
    },
    {
      "cell_type": "code",
      "source": [
        "# Creating the one tensor\n",
        "one_tensor = torch.ones(2,4)\n",
        "one_tensor"
      ],
      "metadata": {
        "colab": {
          "base_uri": "https://localhost:8080/"
        },
        "id": "SNuRY2bYxhtZ",
        "outputId": "ebd3ef3b-bee7-45a4-ea35-7817d2f30154"
      },
      "execution_count": 17,
      "outputs": [
        {
          "output_type": "execute_result",
          "data": {
            "text/plain": [
              "tensor([[1., 1., 1., 1.],\n",
              "        [1., 1., 1., 1.]])"
            ]
          },
          "metadata": {},
          "execution_count": 17
        }
      ]
    },
    {
      "cell_type": "code",
      "source": [
        "# Creating range of values\n",
        "one_to_ten = torch.arange(1,11,2)\n",
        "one_to_ten"
      ],
      "metadata": {
        "colab": {
          "base_uri": "https://localhost:8080/"
        },
        "id": "DYIyBBy4xqtv",
        "outputId": "987d7a80-d56c-4e87-e98c-6fbcc9bcbf36"
      },
      "execution_count": 18,
      "outputs": [
        {
          "output_type": "execute_result",
          "data": {
            "text/plain": [
              "tensor([1, 3, 5, 7, 9])"
            ]
          },
          "metadata": {},
          "execution_count": 18
        }
      ]
    },
    {
      "cell_type": "code",
      "source": [
        "# Creating the zero tensor with same shape as one_to_ten tensor\n",
        "zero_tensor_like = torch.zeros_like(input=one_to_ten)\n",
        "zero_tensor_like"
      ],
      "metadata": {
        "colab": {
          "base_uri": "https://localhost:8080/"
        },
        "id": "g64wPfFxy7Wu",
        "outputId": "7069f83a-4415-458b-d238-5dcad563e748"
      },
      "execution_count": 19,
      "outputs": [
        {
          "output_type": "execute_result",
          "data": {
            "text/plain": [
              "tensor([0, 0, 0, 0, 0])"
            ]
          },
          "metadata": {},
          "execution_count": 19
        }
      ]
    },
    {
      "cell_type": "markdown",
      "source": [
        "##Tensor datatypes"
      ],
      "metadata": {
        "id": "x9kD1nVE07E9"
      }
    },
    {
      "cell_type": "code",
      "source": [
        "# Creating the tensor of float32 datatype\n",
        "float32_tensor = torch.tensor([1.0, 2.0, 3.0],\n",
        "                              dtype=None,    # We can set the data type of the tensor (default is float32)\n",
        "                              device=None,   # We can set the value of device to 'cpu' and 'cuda'\n",
        "                              requires_grad=False    # We can set this to 'True' or 'False' to track the gradient of tensors\n",
        "                              )\n",
        "float32_tensor"
      ],
      "metadata": {
        "colab": {
          "base_uri": "https://localhost:8080/"
        },
        "id": "AlQVkFOxzM_A",
        "outputId": "060bc142-3eb5-40e3-b935-b3265149c9b1"
      },
      "execution_count": 20,
      "outputs": [
        {
          "output_type": "execute_result",
          "data": {
            "text/plain": [
              "tensor([1., 2., 3.])"
            ]
          },
          "metadata": {},
          "execution_count": 20
        }
      ]
    },
    {
      "cell_type": "code",
      "source": [
        "# Checking the datatype of the tensors\n",
        "float32_tensor.dtype"
      ],
      "metadata": {
        "colab": {
          "base_uri": "https://localhost:8080/"
        },
        "id": "mJZByRMZ1J8d",
        "outputId": "80fa925e-527a-4c01-91d3-ed1b84def1c8"
      },
      "execution_count": 21,
      "outputs": [
        {
          "output_type": "execute_result",
          "data": {
            "text/plain": [
              "torch.float32"
            ]
          },
          "metadata": {},
          "execution_count": 21
        }
      ]
    },
    {
      "cell_type": "code",
      "source": [
        "# Converting the float32_tensor to float16 tensor\n",
        "float16_tensor = float32_tensor.type(torch.float16)\n",
        "float16_tensor"
      ],
      "metadata": {
        "colab": {
          "base_uri": "https://localhost:8080/"
        },
        "id": "b05gN1F61L_c",
        "outputId": "62a6022a-a3ac-4f82-f547-b7e8fb602196"
      },
      "execution_count": 22,
      "outputs": [
        {
          "output_type": "execute_result",
          "data": {
            "text/plain": [
              "tensor([1., 2., 3.], dtype=torch.float16)"
            ]
          },
          "metadata": {},
          "execution_count": 22
        }
      ]
    },
    {
      "cell_type": "code",
      "source": [
        "# Checking the data type\n",
        "float16_tensor.dtype"
      ],
      "metadata": {
        "colab": {
          "base_uri": "https://localhost:8080/"
        },
        "id": "SiACm5Bu24Zn",
        "outputId": "80848d69-4bbf-4e59-d477-212a13b4d012"
      },
      "execution_count": 23,
      "outputs": [
        {
          "output_type": "execute_result",
          "data": {
            "text/plain": [
              "torch.float16"
            ]
          },
          "metadata": {},
          "execution_count": 23
        }
      ]
    },
    {
      "cell_type": "markdown",
      "source": [
        "##Tensor manipulation\n",
        "**Tensor Operations:**\n",
        "\n",
        "1. Add\n",
        "2. Substract\n",
        "3. Multiply\n",
        "4. Divide\n",
        "5. Matrix multiplication\n"
      ],
      "metadata": {
        "id": "nOq8RxED5gyS"
      }
    },
    {
      "cell_type": "code",
      "source": [
        "dummy_tensor_1 = torch.rand(2,3)\n",
        "dummy_tensor_1"
      ],
      "metadata": {
        "colab": {
          "base_uri": "https://localhost:8080/"
        },
        "id": "OgmbAaE936Ff",
        "outputId": "6dec914a-6089-488f-a5e0-56597b90e9e0"
      },
      "execution_count": 24,
      "outputs": [
        {
          "output_type": "execute_result",
          "data": {
            "text/plain": [
              "tensor([[0.7199, 0.7369, 0.8332],\n",
              "        [0.0831, 0.2294, 0.4343]])"
            ]
          },
          "metadata": {},
          "execution_count": 24
        }
      ]
    },
    {
      "cell_type": "code",
      "source": [
        "# Addition of tensor - 1st Way\n",
        "add_op_dummy_tensor_1 = dummy_tensor_1 + 10\n",
        "add_op_dummy_tensor_1"
      ],
      "metadata": {
        "colab": {
          "base_uri": "https://localhost:8080/"
        },
        "id": "WwiRwsIO5kY2",
        "outputId": "76d15e92-2ed4-4c1f-d9ba-f1bb58e05a1c"
      },
      "execution_count": 25,
      "outputs": [
        {
          "output_type": "execute_result",
          "data": {
            "text/plain": [
              "tensor([[10.7199, 10.7369, 10.8332],\n",
              "        [10.0831, 10.2294, 10.4343]])"
            ]
          },
          "metadata": {},
          "execution_count": 25
        }
      ]
    },
    {
      "cell_type": "code",
      "source": [
        "# Addition of tensor - 2nd Way\n",
        "add_op_dummy_tensor_1 = torch.add(dummy_tensor_1, 10)\n",
        "add_op_dummy_tensor_1"
      ],
      "metadata": {
        "colab": {
          "base_uri": "https://localhost:8080/"
        },
        "id": "Q3pMIQkc55hY",
        "outputId": "1604a9cb-6116-45d3-bb95-7d87924ffb13"
      },
      "execution_count": 26,
      "outputs": [
        {
          "output_type": "execute_result",
          "data": {
            "text/plain": [
              "tensor([[10.7199, 10.7369, 10.8332],\n",
              "        [10.0831, 10.2294, 10.4343]])"
            ]
          },
          "metadata": {},
          "execution_count": 26
        }
      ]
    },
    {
      "cell_type": "markdown",
      "source": [
        "Same applies for sub, multiply, divide we can use\n",
        "\n",
        "**torch.mul,torch.subtract, torch.divide**"
      ],
      "metadata": {
        "id": "h_SCn0U06V0b"
      }
    },
    {
      "cell_type": "code",
      "source": [
        "# Matrix multiplication if tensors\n",
        "tensor_A = torch.tensor([[2, 3],\n",
        "                         [4, 5],\n",
        "                         [6, 7]])\n",
        "\n",
        "tensor_B = torch.tensor([[6, 7],\n",
        "                         [4, 5],\n",
        "                         [2, 3]])\n",
        "\n",
        "torch.matmul(tensor_A, tensor_B)"
      ],
      "metadata": {
        "colab": {
          "base_uri": "https://localhost:8080/",
          "height": 211
        },
        "id": "9mUZIJrW6p40",
        "outputId": "1a97ed32-c608-436c-dd15-36faa1b13e89"
      },
      "execution_count": 27,
      "outputs": [
        {
          "output_type": "error",
          "ename": "RuntimeError",
          "evalue": "ignored",
          "traceback": [
            "\u001b[0;31m---------------------------------------------------------------------------\u001b[0m",
            "\u001b[0;31mRuntimeError\u001b[0m                              Traceback (most recent call last)",
            "\u001b[0;32m<ipython-input-27-3408eb6b8ca2>\u001b[0m in \u001b[0;36m<cell line: 10>\u001b[0;34m()\u001b[0m\n\u001b[1;32m      8\u001b[0m                          [2, 3]])\n\u001b[1;32m      9\u001b[0m \u001b[0;34m\u001b[0m\u001b[0m\n\u001b[0;32m---> 10\u001b[0;31m \u001b[0mtorch\u001b[0m\u001b[0;34m.\u001b[0m\u001b[0mmatmul\u001b[0m\u001b[0;34m(\u001b[0m\u001b[0mtensor_A\u001b[0m\u001b[0;34m,\u001b[0m \u001b[0mtensor_B\u001b[0m\u001b[0;34m)\u001b[0m\u001b[0;34m\u001b[0m\u001b[0;34m\u001b[0m\u001b[0m\n\u001b[0m",
            "\u001b[0;31mRuntimeError\u001b[0m: mat1 and mat2 shapes cannot be multiplied (3x2 and 3x2)"
          ]
        }
      ]
    },
    {
      "cell_type": "markdown",
      "source": [
        "As the above error is common because of the shape issues of tensor A and tensor B.\n",
        "\n",
        "So to fix this we can use transpose function to change the shape of matrix."
      ],
      "metadata": {
        "id": "jhCVhvvI8FlW"
      }
    },
    {
      "cell_type": "code",
      "source": [
        "torch.matmul(tensor_A, tensor_B.T)"
      ],
      "metadata": {
        "colab": {
          "base_uri": "https://localhost:8080/"
        },
        "id": "IhfBDbuR8C1C",
        "outputId": "930f03ee-8116-425a-a584-d4b7d3e43d52"
      },
      "execution_count": 28,
      "outputs": [
        {
          "output_type": "execute_result",
          "data": {
            "text/plain": [
              "tensor([[33, 23, 13],\n",
              "        [59, 41, 23],\n",
              "        [85, 59, 33]])"
            ]
          },
          "metadata": {},
          "execution_count": 28
        }
      ]
    },
    {
      "cell_type": "markdown",
      "source": [
        "##Tensor aggregation\n",
        "\n",
        "Finding the minimum, maximum, average etc from the tensor"
      ],
      "metadata": {
        "id": "fU1J-m5j8qLb"
      }
    },
    {
      "cell_type": "code",
      "source": [
        "# Finding the mean of tensor_A\n",
        "\n",
        "torch.mean(tensor_A)"
      ],
      "metadata": {
        "colab": {
          "base_uri": "https://localhost:8080/",
          "height": 211
        },
        "id": "-STRN56m8bg9",
        "outputId": "a252c316-9c82-4bcf-e00d-bc815cd59360"
      },
      "execution_count": 29,
      "outputs": [
        {
          "output_type": "error",
          "ename": "RuntimeError",
          "evalue": "ignored",
          "traceback": [
            "\u001b[0;31m---------------------------------------------------------------------------\u001b[0m",
            "\u001b[0;31mRuntimeError\u001b[0m                              Traceback (most recent call last)",
            "\u001b[0;32m<ipython-input-29-950dbd57a3e8>\u001b[0m in \u001b[0;36m<cell line: 3>\u001b[0;34m()\u001b[0m\n\u001b[1;32m      1\u001b[0m \u001b[0;31m# Finding the mean of tensor_A\u001b[0m\u001b[0;34m\u001b[0m\u001b[0;34m\u001b[0m\u001b[0m\n\u001b[1;32m      2\u001b[0m \u001b[0;34m\u001b[0m\u001b[0m\n\u001b[0;32m----> 3\u001b[0;31m \u001b[0mtorch\u001b[0m\u001b[0;34m.\u001b[0m\u001b[0mmean\u001b[0m\u001b[0;34m(\u001b[0m\u001b[0mtensor_A\u001b[0m\u001b[0;34m)\u001b[0m\u001b[0;34m\u001b[0m\u001b[0;34m\u001b[0m\u001b[0m\n\u001b[0m",
            "\u001b[0;31mRuntimeError\u001b[0m: mean(): could not infer output dtype. Input dtype must be either a floating point or complex dtype. Got: Long"
          ]
        }
      ]
    },
    {
      "cell_type": "code",
      "source": [
        "# To solve the error above we need to convert the tensor_A to long type\n",
        "print(tensor_A)\n",
        "torch.mean(tensor_A.type(torch.float32))"
      ],
      "metadata": {
        "colab": {
          "base_uri": "https://localhost:8080/"
        },
        "id": "q2mZwMpT9As4",
        "outputId": "30f797cc-8f35-4c54-c259-21804cc9ecc9"
      },
      "execution_count": 33,
      "outputs": [
        {
          "output_type": "stream",
          "name": "stdout",
          "text": [
            "tensor([[2, 3],\n",
            "        [4, 5],\n",
            "        [6, 7]])\n"
          ]
        },
        {
          "output_type": "execute_result",
          "data": {
            "text/plain": [
              "tensor(4.5000)"
            ]
          },
          "metadata": {},
          "execution_count": 33
        }
      ]
    },
    {
      "cell_type": "markdown",
      "source": [
        "## Reshape, View, Stacking, Squeeze, Unsqueeze, Permute to a tensor\n",
        "\n",
        "Reshape - it reshapes the input tensor to defined shape\n",
        "\n",
        "View - it returns the view of the tensor but it shares the same memory as the original tensor\n",
        "\n",
        "Stacking - combine tensors on top of each other\n",
        "\n",
        "Squeeze - remove 1 dimension from the tensor\n",
        "\n",
        "Unsqueeze - adds 1 dimension to the tensor\n",
        "\n",
        "Permute - return a view of the tensor with permited dimensions(swapped dimensions)"
      ],
      "metadata": {
        "id": "SDjUUu0m-a5N"
      }
    },
    {
      "cell_type": "code",
      "source": [
        "# Reshape - it reshapes the input tensor to defined shape\n",
        "tensor_1 = torch.arange(1.0, 20, 2)\n",
        "tensor_1, tensor_1.shape"
      ],
      "metadata": {
        "colab": {
          "base_uri": "https://localhost:8080/"
        },
        "id": "AU4nwyC19Zgq",
        "outputId": "5c96e36e-9fa0-450b-e33d-59ca05b44b12"
      },
      "execution_count": 35,
      "outputs": [
        {
          "output_type": "execute_result",
          "data": {
            "text/plain": [
              "(tensor([ 1.,  3.,  5.,  7.,  9., 11., 13., 15., 17., 19.]), torch.Size([10]))"
            ]
          },
          "metadata": {},
          "execution_count": 35
        }
      ]
    },
    {
      "cell_type": "code",
      "source": [
        "#  reshaping the tensor_1\n",
        "reshaped_tensor_1 = tensor_1.reshape(2, 5)\n",
        "reshaped_tensor_1"
      ],
      "metadata": {
        "colab": {
          "base_uri": "https://localhost:8080/"
        },
        "id": "5q_YpR1Q_fKO",
        "outputId": "2d69008c-e680-4cd6-dbef-be2e62739c63"
      },
      "execution_count": 37,
      "outputs": [
        {
          "output_type": "execute_result",
          "data": {
            "text/plain": [
              "tensor([[ 1.,  3.,  5.,  7.,  9.],\n",
              "        [11., 13., 15., 17., 19.]])"
            ]
          },
          "metadata": {},
          "execution_count": 37
        }
      ]
    },
    {
      "cell_type": "code",
      "source": [
        "# View - it returns the view of the tensor but it shares the same memory as the\n",
        "# original tensor\n",
        "\n",
        "# As the results is same as the reshape but viewed tensor has the same memory i.e any changes\n",
        "# made to viewed_tensor_1 makes the same changes with the tensor_1\n",
        "\n",
        "viewed_tensor_1 = tensor_1.view(2,5)\n",
        "viewed_tensor_1"
      ],
      "metadata": {
        "colab": {
          "base_uri": "https://localhost:8080/"
        },
        "id": "09fPTYX__0QS",
        "outputId": "0e49ac29-eb76-4268-ffc9-e0bc88e57e54"
      },
      "execution_count": 38,
      "outputs": [
        {
          "output_type": "execute_result",
          "data": {
            "text/plain": [
              "tensor([[ 1.,  3.,  5.,  7.,  9.],\n",
              "        [11., 13., 15., 17., 19.]])"
            ]
          },
          "metadata": {},
          "execution_count": 38
        }
      ]
    },
    {
      "cell_type": "code",
      "source": [],
      "metadata": {
        "id": "F_390U0WAqA2"
      },
      "execution_count": null,
      "outputs": []
    }
  ]
}